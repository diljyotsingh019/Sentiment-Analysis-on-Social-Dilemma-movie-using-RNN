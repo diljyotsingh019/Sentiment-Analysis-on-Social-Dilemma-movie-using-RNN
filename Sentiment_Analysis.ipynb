{
  "cells": [
    {
      "cell_type": "markdown",
      "source": [
        "#Sentiment Analysis"
      ],
      "metadata": {
        "id": "G1b6MUCSlLr7"
      }
    },
    {
      "cell_type": "markdown",
      "source": [
        "The Social Dilemma, a documentary-drama hybrid explores the dangerous human impact of social\n",
        "networking, with tech experts sounding the alarm on their own creations as the tech experts\n",
        "sound the alarm on the dangerous human impact of social networking. This dataset brings you the\n",
        "twitter responses made with the #TheSocialDilemma hashtag after watching the eye-opening\n",
        "documentary \"The Social Dilemma\" released in an OTT platform(Netflix) on September 9th, 2020.\n",
        "We can categorize the tweets into different groups to identify the sentiment of the users\n",
        "regarding the documentary.\n",
        "\n",
        "<p>\n",
        "<b><u>Attribute Information:</b></u></p>\n",
        "<p>1. user_name - The name of the user, as they’ve defined it.<p>\n",
        "2. user_location - The user-defined location for this account’s profile.<p>\n",
        "3. user_description - The user-defined UTF-8 string describing their account.<p>\n",
        "4. user_created - Time and date, when the account was created.<p>\n",
        "5. user_followers - The number of followers an account currently has.<p>\n",
        "6. user_friends – The number of friends an account currently has.<p>\n",
        "7. user_favourites - The number of favorites an account currently has.<p>\n",
        "8. user_verified - When true, indicates that the user has a verified account.<p>\n",
        "9. date - UTC time and date when the Tweet was created.<p>\n",
        "10. hashtags - All the other hashtags posted in the tweet along with #TheSocialDilemma<p>\n",
        "11. source - Utility used to post the Tweet, Tweets from the Twitter website have a source\n",
        "value – web<p>\n",
        "12. is_retweet - Indicates whether this Tweet has been Retweeted by the authenticating user.\n",
        "13. clean_text – Cleaned text of the tweet.<p>\n",
        "14. Sentiment (target) - Indicates the sentiment of the tweet, consists of three categories:\n",
        "Positive, neutral, and negative.<p>"
      ],
      "metadata": {
        "id": "z6WQ3liFJKxB"
      }
    },
    {
      "cell_type": "markdown",
      "source": [
        "## Importing Necessary Libraries"
      ],
      "metadata": {
        "id": "i3QHLiDClVkT"
      }
    },
    {
      "cell_type": "code",
      "source": [
        "!pip install Tensorflow==2.4.1"
      ],
      "metadata": {
        "id": "AYekLrHF3IYN"
      },
      "execution_count": null,
      "outputs": []
    },
    {
      "cell_type": "code",
      "source": [
        "!pip install -q -U keras-tuner"
      ],
      "metadata": {
        "id": "-u4gD4wVGnVK"
      },
      "execution_count": null,
      "outputs": []
    },
    {
      "cell_type": "code",
      "execution_count": 3,
      "metadata": {
        "id": "YPYuLKT5AOey"
      },
      "outputs": [],
      "source": [
        "import pandas as pd\n",
        "import numpy as np\n",
        "import re \n",
        "from sklearn.metrics import cohen_kappa_score, classification_report, confusion_matrix\n",
        "import matplotlib.pyplot as plt\n",
        "from sklearn.model_selection import train_test_split\n",
        "from sklearn.metrics import confusion_matrix , accuracy_score, classification_report\n",
        "from tensorflow import keras\n",
        "from tensorflow.keras.preprocessing.text import Tokenizer\n",
        "from tensorflow.keras.preprocessing.sequence import pad_sequences\n",
        "from tensorflow.keras.layers import Dense, GlobalMaxPooling1D\n",
        "from tensorflow.keras.models import Model\n",
        "from tensorflow.keras.layers import Flatten\n",
        "from tensorflow.keras.layers import  Embedding, SimpleRNN\n",
        "from tensorflow.keras.models import Sequential\n",
        "from sklearn.preprocessing import LabelEncoder\n",
        "from keras_tuner import RandomSearch\n",
        "from keras_tuner.engine.hyperparameters import HyperParameters\n",
        "from tensorflow.keras.optimizers import Adam\n",
        "import tensorflow as tf\n",
        "\n",
        "import itertools\n",
        "import os\n",
        "import seaborn as sns\n",
        "import warnings\n",
        "\n",
        "warnings.filterwarnings(\"ignore\")\n",
        "sns.set()"
      ]
    },
    {
      "cell_type": "markdown",
      "source": [
        "##Mounting google drive to retrieve the data later"
      ],
      "metadata": {
        "id": "Lh493FBXl1xx"
      }
    },
    {
      "cell_type": "code",
      "execution_count": 4,
      "metadata": {
        "colab": {
          "base_uri": "https://localhost:8080/"
        },
        "id": "Z7GfweEeAQLX",
        "outputId": "bc49b466-562c-46fd-9e31-f98bc5df9e29"
      },
      "outputs": [
        {
          "output_type": "stream",
          "name": "stdout",
          "text": [
            "Drive already mounted at /content/drive; to attempt to forcibly remount, call drive.mount(\"/content/drive\", force_remount=True).\n"
          ]
        }
      ],
      "source": [
        "from google.colab import drive\n",
        "drive.mount(\"/content/drive\")"
      ]
    },
    {
      "cell_type": "markdown",
      "source": [
        "##Specifying the directory"
      ],
      "metadata": {
        "id": "En16ci9_l8H-"
      }
    },
    {
      "cell_type": "code",
      "source": [
        "os.chdir(\"/content/drive/MyDrive/Colab Notebooks/Sentiment Analysis\")"
      ],
      "metadata": {
        "id": "U6_lDMKXnCRf"
      },
      "execution_count": 6,
      "outputs": []
    },
    {
      "cell_type": "markdown",
      "source": [
        "##Extracting the data from the specified directory"
      ],
      "metadata": {
        "id": "LpwkE1z5mAe1"
      }
    },
    {
      "cell_type": "code",
      "execution_count": 7,
      "metadata": {
        "id": "nG36dV7UAjPW"
      },
      "outputs": [],
      "source": [
        "train_df = pd.read_csv(\"tweets_train.csv\")\n",
        "test_df = pd.read_csv(\"tweets_test.csv\")"
      ]
    },
    {
      "cell_type": "markdown",
      "source": [
        "##EDA and Data Cleaning"
      ],
      "metadata": {
        "id": "z6s8DxKZmHsK"
      }
    },
    {
      "cell_type": "code",
      "execution_count": 8,
      "metadata": {
        "id": "bAONhufkBdrf",
        "colab": {
          "base_uri": "https://localhost:8080/"
        },
        "outputId": "23b44d4c-2d83-4631-dc2a-3dde46821623"
      },
      "outputs": [
        {
          "output_type": "execute_result",
          "data": {
            "text/plain": [
              "(17000, 14)"
            ]
          },
          "metadata": {},
          "execution_count": 8
        }
      ],
      "source": [
        "train_df.shape"
      ]
    },
    {
      "cell_type": "code",
      "source": [
        "test_df.shape"
      ],
      "metadata": {
        "colab": {
          "base_uri": "https://localhost:8080/"
        },
        "id": "PDQd7PvrnN9w",
        "outputId": "f8d54d46-5e69-4661-cd4a-554ac58e4594"
      },
      "execution_count": 9,
      "outputs": [
        {
          "output_type": "execute_result",
          "data": {
            "text/plain": [
              "(3068, 13)"
            ]
          },
          "metadata": {},
          "execution_count": 9
        }
      ]
    },
    {
      "cell_type": "code",
      "source": [
        "train_df"
      ],
      "metadata": {
        "colab": {
          "base_uri": "https://localhost:8080/",
          "height": 904
        },
        "id": "KIzAzUVTnQpQ",
        "outputId": "e9ae51ad-f62a-4562-c245-f8ebda7d03e8"
      },
      "execution_count": 10,
      "outputs": [
        {
          "output_type": "execute_result",
          "data": {
            "text/html": [
              "\n",
              "  <div id=\"df-fe220583-f3ce-4e11-b481-fbcd30f8779b\">\n",
              "    <div class=\"colab-df-container\">\n",
              "      <div>\n",
              "<style scoped>\n",
              "    .dataframe tbody tr th:only-of-type {\n",
              "        vertical-align: middle;\n",
              "    }\n",
              "\n",
              "    .dataframe tbody tr th {\n",
              "        vertical-align: top;\n",
              "    }\n",
              "\n",
              "    .dataframe thead th {\n",
              "        text-align: right;\n",
              "    }\n",
              "</style>\n",
              "<table border=\"1\" class=\"dataframe\">\n",
              "  <thead>\n",
              "    <tr style=\"text-align: right;\">\n",
              "      <th></th>\n",
              "      <th>user_name</th>\n",
              "      <th>user_location</th>\n",
              "      <th>user_description</th>\n",
              "      <th>user_created</th>\n",
              "      <th>user_followers</th>\n",
              "      <th>user_friends</th>\n",
              "      <th>user_favourites</th>\n",
              "      <th>user_verified</th>\n",
              "      <th>date</th>\n",
              "      <th>hashtags</th>\n",
              "      <th>source</th>\n",
              "      <th>is_retweet</th>\n",
              "      <th>clean_text</th>\n",
              "      <th>Sentiment</th>\n",
              "    </tr>\n",
              "  </thead>\n",
              "  <tbody>\n",
              "    <tr>\n",
              "      <th>0</th>\n",
              "      <td>Romy 👑</td>\n",
              "      <td>Bolton - England</td>\n",
              "      <td>Tables turn, bridges burn, you live and learn.</td>\n",
              "      <td>2009-06-15 09:00:39</td>\n",
              "      <td>525</td>\n",
              "      <td>896</td>\n",
              "      <td>3854</td>\n",
              "      <td>False</td>\n",
              "      <td>2020-09-19 15:19:32</td>\n",
              "      <td>['TheSocialDilemma']</td>\n",
              "      <td>Twitter for Android</td>\n",
              "      <td>False</td>\n",
              "      <td>TheSocialDilemma is an eye opener isn t it ple...</td>\n",
              "      <td>Neutral</td>\n",
              "    </tr>\n",
              "    <tr>\n",
              "      <th>1</th>\n",
              "      <td>TLynn Peterson</td>\n",
              "      <td>Black Canyon City, Arizona</td>\n",
              "      <td>Acquired disability ♿ after an accident. Livin...</td>\n",
              "      <td>2013-05-29 00:17:46</td>\n",
              "      <td>5045</td>\n",
              "      <td>5374</td>\n",
              "      <td>48152</td>\n",
              "      <td>False</td>\n",
              "      <td>2020-09-13 00:31:46</td>\n",
              "      <td>['TheSocialDilemma']</td>\n",
              "      <td>Twitter for Android</td>\n",
              "      <td>False</td>\n",
              "      <td>TheSocialDilemma If we don t agree on what is ...</td>\n",
              "      <td>Positive</td>\n",
              "    </tr>\n",
              "    <tr>\n",
              "      <th>2</th>\n",
              "      <td>Rutger Kosters</td>\n",
              "      <td>Netherlands</td>\n",
              "      <td>Cloud Solution Architect @NetApp | VCDX #209 |...</td>\n",
              "      <td>2014-10-07 09:34:10</td>\n",
              "      <td>574</td>\n",
              "      <td>251</td>\n",
              "      <td>1070</td>\n",
              "      <td>False</td>\n",
              "      <td>2020-09-09 21:10:33</td>\n",
              "      <td>['TheSocialDilemma']</td>\n",
              "      <td>Twitter for Android</td>\n",
              "      <td>False</td>\n",
              "      <td>Watching TheSocialDilemma scary to see social ...</td>\n",
              "      <td>Negative</td>\n",
              "    </tr>\n",
              "    <tr>\n",
              "      <th>3</th>\n",
              "      <td>IDFWU🗯🇿🇼🇿🇦</td>\n",
              "      <td>East London, South Africa</td>\n",
              "      <td>YOU HAVE OPTIONS, YOU CAN’T JUST TAKE WHAT LIF...</td>\n",
              "      <td>2012-08-22 11:09:06</td>\n",
              "      <td>706</td>\n",
              "      <td>618</td>\n",
              "      <td>1320</td>\n",
              "      <td>False</td>\n",
              "      <td>2020-09-11 04:33:08</td>\n",
              "      <td>NaN</td>\n",
              "      <td>Twitter for Android</td>\n",
              "      <td>False</td>\n",
              "      <td>You check your social media before you pee in ...</td>\n",
              "      <td>Positive</td>\n",
              "    </tr>\n",
              "    <tr>\n",
              "      <th>4</th>\n",
              "      <td>Treebel</td>\n",
              "      <td>NaN</td>\n",
              "      <td>NaN</td>\n",
              "      <td>2010-09-25 07:25:31</td>\n",
              "      <td>9</td>\n",
              "      <td>13</td>\n",
              "      <td>55</td>\n",
              "      <td>False</td>\n",
              "      <td>2020-09-17 16:27:38</td>\n",
              "      <td>['thesocialdilemma']</td>\n",
              "      <td>Twitter for iPhone</td>\n",
              "      <td>False</td>\n",
              "      <td>watch thesocialdilemma and see what s actually...</td>\n",
              "      <td>Negative</td>\n",
              "    </tr>\n",
              "    <tr>\n",
              "      <th>...</th>\n",
              "      <td>...</td>\n",
              "      <td>...</td>\n",
              "      <td>...</td>\n",
              "      <td>...</td>\n",
              "      <td>...</td>\n",
              "      <td>...</td>\n",
              "      <td>...</td>\n",
              "      <td>...</td>\n",
              "      <td>...</td>\n",
              "      <td>...</td>\n",
              "      <td>...</td>\n",
              "      <td>...</td>\n",
              "      <td>...</td>\n",
              "      <td>...</td>\n",
              "    </tr>\n",
              "    <tr>\n",
              "      <th>16995</th>\n",
              "      <td>Ra'Chelle Rogers</td>\n",
              "      <td>Philadelphia/New York</td>\n",
              "      <td>mom. media. art. Publicist. Philly. Opinions e...</td>\n",
              "      <td>2009-05-22 13:34:14</td>\n",
              "      <td>387</td>\n",
              "      <td>400</td>\n",
              "      <td>1274</td>\n",
              "      <td>False</td>\n",
              "      <td>2020-09-13 22:12:29</td>\n",
              "      <td>['TheSocialDilemma']</td>\n",
              "      <td>Twitter for iPhone</td>\n",
              "      <td>False</td>\n",
              "      <td>Watching TheSocialDilemma</td>\n",
              "      <td>Neutral</td>\n",
              "    </tr>\n",
              "    <tr>\n",
              "      <th>16996</th>\n",
              "      <td>Mike Lynch</td>\n",
              "      <td>Boston, MA, USA</td>\n",
              "      <td>higher education professional . educator . doc...</td>\n",
              "      <td>2009-04-27 01:16:09</td>\n",
              "      <td>4444</td>\n",
              "      <td>4995</td>\n",
              "      <td>52692</td>\n",
              "      <td>False</td>\n",
              "      <td>2020-09-20 15:17:14</td>\n",
              "      <td>['TheSocialDilemma']</td>\n",
              "      <td>Twitter for iPhone</td>\n",
              "      <td>False</td>\n",
              "      <td>If you re not paying for the product you are t...</td>\n",
              "      <td>Neutral</td>\n",
              "    </tr>\n",
              "    <tr>\n",
              "      <th>16997</th>\n",
              "      <td>James Baldwin was a genius.</td>\n",
              "      <td>Terra-Belle, USA</td>\n",
              "      <td>Class based policies won't fix the racial weal...</td>\n",
              "      <td>2012-10-05 23:27:21</td>\n",
              "      <td>879</td>\n",
              "      <td>1456</td>\n",
              "      <td>50103</td>\n",
              "      <td>False</td>\n",
              "      <td>2020-09-19 14:04:32</td>\n",
              "      <td>['TheSocialDilemma']</td>\n",
              "      <td>Twitter Web App</td>\n",
              "      <td>False</td>\n",
              "      <td>Watching TheSocialDilemma Let s see</td>\n",
              "      <td>Neutral</td>\n",
              "    </tr>\n",
              "    <tr>\n",
              "      <th>16998</th>\n",
              "      <td>Johan - SocialMediaBreakup</td>\n",
              "      <td>Dublin City, Ireland</td>\n",
              "      <td>Helping people to beat their compulsive phone ...</td>\n",
              "      <td>2018-10-25 22:21:17</td>\n",
              "      <td>1009</td>\n",
              "      <td>1283</td>\n",
              "      <td>19290</td>\n",
              "      <td>False</td>\n",
              "      <td>2020-09-18 15:37:00</td>\n",
              "      <td>['TheSocialDilemma']</td>\n",
              "      <td>TweetDeck</td>\n",
              "      <td>False</td>\n",
              "      <td>Yes TheSocialDilemma what a perfect time to be...</td>\n",
              "      <td>Positive</td>\n",
              "    </tr>\n",
              "    <tr>\n",
              "      <th>16999</th>\n",
              "      <td>attilacsordas</td>\n",
              "      <td>Cambridge, UK</td>\n",
              "      <td>healthy longevity startupper/biologist/philoso...</td>\n",
              "      <td>2007-03-27 09:26:42</td>\n",
              "      <td>4278</td>\n",
              "      <td>558</td>\n",
              "      <td>3844</td>\n",
              "      <td>False</td>\n",
              "      <td>2020-09-19 18:51:11</td>\n",
              "      <td>['TheSocialDilemma']</td>\n",
              "      <td>Twitter Web App</td>\n",
              "      <td>False</td>\n",
              "      <td>had the impression that is actually sitting in...</td>\n",
              "      <td>Negative</td>\n",
              "    </tr>\n",
              "  </tbody>\n",
              "</table>\n",
              "<p>17000 rows × 14 columns</p>\n",
              "</div>\n",
              "      <button class=\"colab-df-convert\" onclick=\"convertToInteractive('df-fe220583-f3ce-4e11-b481-fbcd30f8779b')\"\n",
              "              title=\"Convert this dataframe to an interactive table.\"\n",
              "              style=\"display:none;\">\n",
              "        \n",
              "  <svg xmlns=\"http://www.w3.org/2000/svg\" height=\"24px\"viewBox=\"0 0 24 24\"\n",
              "       width=\"24px\">\n",
              "    <path d=\"M0 0h24v24H0V0z\" fill=\"none\"/>\n",
              "    <path d=\"M18.56 5.44l.94 2.06.94-2.06 2.06-.94-2.06-.94-.94-2.06-.94 2.06-2.06.94zm-11 1L8.5 8.5l.94-2.06 2.06-.94-2.06-.94L8.5 2.5l-.94 2.06-2.06.94zm10 10l.94 2.06.94-2.06 2.06-.94-2.06-.94-.94-2.06-.94 2.06-2.06.94z\"/><path d=\"M17.41 7.96l-1.37-1.37c-.4-.4-.92-.59-1.43-.59-.52 0-1.04.2-1.43.59L10.3 9.45l-7.72 7.72c-.78.78-.78 2.05 0 2.83L4 21.41c.39.39.9.59 1.41.59.51 0 1.02-.2 1.41-.59l7.78-7.78 2.81-2.81c.8-.78.8-2.07 0-2.86zM5.41 20L4 18.59l7.72-7.72 1.47 1.35L5.41 20z\"/>\n",
              "  </svg>\n",
              "      </button>\n",
              "      \n",
              "  <style>\n",
              "    .colab-df-container {\n",
              "      display:flex;\n",
              "      flex-wrap:wrap;\n",
              "      gap: 12px;\n",
              "    }\n",
              "\n",
              "    .colab-df-convert {\n",
              "      background-color: #E8F0FE;\n",
              "      border: none;\n",
              "      border-radius: 50%;\n",
              "      cursor: pointer;\n",
              "      display: none;\n",
              "      fill: #1967D2;\n",
              "      height: 32px;\n",
              "      padding: 0 0 0 0;\n",
              "      width: 32px;\n",
              "    }\n",
              "\n",
              "    .colab-df-convert:hover {\n",
              "      background-color: #E2EBFA;\n",
              "      box-shadow: 0px 1px 2px rgba(60, 64, 67, 0.3), 0px 1px 3px 1px rgba(60, 64, 67, 0.15);\n",
              "      fill: #174EA6;\n",
              "    }\n",
              "\n",
              "    [theme=dark] .colab-df-convert {\n",
              "      background-color: #3B4455;\n",
              "      fill: #D2E3FC;\n",
              "    }\n",
              "\n",
              "    [theme=dark] .colab-df-convert:hover {\n",
              "      background-color: #434B5C;\n",
              "      box-shadow: 0px 1px 3px 1px rgba(0, 0, 0, 0.15);\n",
              "      filter: drop-shadow(0px 1px 2px rgba(0, 0, 0, 0.3));\n",
              "      fill: #FFFFFF;\n",
              "    }\n",
              "  </style>\n",
              "\n",
              "      <script>\n",
              "        const buttonEl =\n",
              "          document.querySelector('#df-fe220583-f3ce-4e11-b481-fbcd30f8779b button.colab-df-convert');\n",
              "        buttonEl.style.display =\n",
              "          google.colab.kernel.accessAllowed ? 'block' : 'none';\n",
              "\n",
              "        async function convertToInteractive(key) {\n",
              "          const element = document.querySelector('#df-fe220583-f3ce-4e11-b481-fbcd30f8779b');\n",
              "          const dataTable =\n",
              "            await google.colab.kernel.invokeFunction('convertToInteractive',\n",
              "                                                     [key], {});\n",
              "          if (!dataTable) return;\n",
              "\n",
              "          const docLinkHtml = 'Like what you see? Visit the ' +\n",
              "            '<a target=\"_blank\" href=https://colab.research.google.com/notebooks/data_table.ipynb>data table notebook</a>'\n",
              "            + ' to learn more about interactive tables.';\n",
              "          element.innerHTML = '';\n",
              "          dataTable['output_type'] = 'display_data';\n",
              "          await google.colab.output.renderOutput(dataTable, element);\n",
              "          const docLink = document.createElement('div');\n",
              "          docLink.innerHTML = docLinkHtml;\n",
              "          element.appendChild(docLink);\n",
              "        }\n",
              "      </script>\n",
              "    </div>\n",
              "  </div>\n",
              "  "
            ],
            "text/plain": [
              "                         user_name               user_location  \\\n",
              "0                           Romy 👑            Bolton - England   \n",
              "1                   TLynn Peterson  Black Canyon City, Arizona   \n",
              "2                   Rutger Kosters                 Netherlands   \n",
              "3                       IDFWU🗯🇿🇼🇿🇦   East London, South Africa   \n",
              "4                          Treebel                         NaN   \n",
              "...                            ...                         ...   \n",
              "16995             Ra'Chelle Rogers       Philadelphia/New York   \n",
              "16996                   Mike Lynch             Boston, MA, USA   \n",
              "16997  James Baldwin was a genius.            Terra-Belle, USA   \n",
              "16998   Johan - SocialMediaBreakup        Dublin City, Ireland   \n",
              "16999                attilacsordas               Cambridge, UK   \n",
              "\n",
              "                                        user_description         user_created  \\\n",
              "0         Tables turn, bridges burn, you live and learn.  2009-06-15 09:00:39   \n",
              "1      Acquired disability ♿ after an accident. Livin...  2013-05-29 00:17:46   \n",
              "2      Cloud Solution Architect @NetApp | VCDX #209 |...  2014-10-07 09:34:10   \n",
              "3      YOU HAVE OPTIONS, YOU CAN’T JUST TAKE WHAT LIF...  2012-08-22 11:09:06   \n",
              "4                                                    NaN  2010-09-25 07:25:31   \n",
              "...                                                  ...                  ...   \n",
              "16995  mom. media. art. Publicist. Philly. Opinions e...  2009-05-22 13:34:14   \n",
              "16996  higher education professional . educator . doc...  2009-04-27 01:16:09   \n",
              "16997  Class based policies won't fix the racial weal...  2012-10-05 23:27:21   \n",
              "16998  Helping people to beat their compulsive phone ...  2018-10-25 22:21:17   \n",
              "16999  healthy longevity startupper/biologist/philoso...  2007-03-27 09:26:42   \n",
              "\n",
              "       user_followers  user_friends  user_favourites  user_verified  \\\n",
              "0                 525           896             3854          False   \n",
              "1                5045          5374            48152          False   \n",
              "2                 574           251             1070          False   \n",
              "3                 706           618             1320          False   \n",
              "4                   9            13               55          False   \n",
              "...               ...           ...              ...            ...   \n",
              "16995             387           400             1274          False   \n",
              "16996            4444          4995            52692          False   \n",
              "16997             879          1456            50103          False   \n",
              "16998            1009          1283            19290          False   \n",
              "16999            4278           558             3844          False   \n",
              "\n",
              "                      date              hashtags               source  \\\n",
              "0      2020-09-19 15:19:32  ['TheSocialDilemma']  Twitter for Android   \n",
              "1      2020-09-13 00:31:46  ['TheSocialDilemma']  Twitter for Android   \n",
              "2      2020-09-09 21:10:33  ['TheSocialDilemma']  Twitter for Android   \n",
              "3      2020-09-11 04:33:08                   NaN  Twitter for Android   \n",
              "4      2020-09-17 16:27:38  ['thesocialdilemma']   Twitter for iPhone   \n",
              "...                    ...                   ...                  ...   \n",
              "16995  2020-09-13 22:12:29  ['TheSocialDilemma']   Twitter for iPhone   \n",
              "16996  2020-09-20 15:17:14  ['TheSocialDilemma']   Twitter for iPhone   \n",
              "16997  2020-09-19 14:04:32  ['TheSocialDilemma']      Twitter Web App   \n",
              "16998  2020-09-18 15:37:00  ['TheSocialDilemma']            TweetDeck   \n",
              "16999  2020-09-19 18:51:11  ['TheSocialDilemma']      Twitter Web App   \n",
              "\n",
              "       is_retweet                                         clean_text Sentiment  \n",
              "0           False  TheSocialDilemma is an eye opener isn t it ple...   Neutral  \n",
              "1           False  TheSocialDilemma If we don t agree on what is ...  Positive  \n",
              "2           False  Watching TheSocialDilemma scary to see social ...  Negative  \n",
              "3           False  You check your social media before you pee in ...  Positive  \n",
              "4           False  watch thesocialdilemma and see what s actually...  Negative  \n",
              "...           ...                                                ...       ...  \n",
              "16995       False                          Watching TheSocialDilemma   Neutral  \n",
              "16996       False  If you re not paying for the product you are t...   Neutral  \n",
              "16997       False                Watching TheSocialDilemma Let s see   Neutral  \n",
              "16998       False  Yes TheSocialDilemma what a perfect time to be...  Positive  \n",
              "16999       False  had the impression that is actually sitting in...  Negative  \n",
              "\n",
              "[17000 rows x 14 columns]"
            ]
          },
          "metadata": {},
          "execution_count": 10
        }
      ]
    },
    {
      "cell_type": "code",
      "source": [
        "train_df[\"clean_text\"][0]"
      ],
      "metadata": {
        "colab": {
          "base_uri": "https://localhost:8080/",
          "height": 35
        },
        "id": "JuMzKWMsnwP5",
        "outputId": "4f11751d-e8c8-44ef-b282-475fcdd4d9a3"
      },
      "execution_count": 11,
      "outputs": [
        {
          "output_type": "execute_result",
          "data": {
            "application/vnd.google.colaboratory.intrinsic+json": {
              "type": "string"
            },
            "text/plain": [
              "'TheSocialDilemma is an eye opener isn t it please ignore the irony of me tweeting about it'"
            ]
          },
          "metadata": {},
          "execution_count": 11
        }
      ]
    },
    {
      "cell_type": "code",
      "source": [
        "final_train = train_df[[\"clean_text\", \"Sentiment\"]]\n",
        "final_train"
      ],
      "metadata": {
        "colab": {
          "base_uri": "https://localhost:8080/",
          "height": 424
        },
        "id": "U9hCnuq4oWpi",
        "outputId": "ca8b3b76-e9f0-4cde-f6ce-fabe69e873c8"
      },
      "execution_count": 12,
      "outputs": [
        {
          "output_type": "execute_result",
          "data": {
            "text/html": [
              "\n",
              "  <div id=\"df-7d9a0fb1-bf68-4f41-a51f-51cc81111a9c\">\n",
              "    <div class=\"colab-df-container\">\n",
              "      <div>\n",
              "<style scoped>\n",
              "    .dataframe tbody tr th:only-of-type {\n",
              "        vertical-align: middle;\n",
              "    }\n",
              "\n",
              "    .dataframe tbody tr th {\n",
              "        vertical-align: top;\n",
              "    }\n",
              "\n",
              "    .dataframe thead th {\n",
              "        text-align: right;\n",
              "    }\n",
              "</style>\n",
              "<table border=\"1\" class=\"dataframe\">\n",
              "  <thead>\n",
              "    <tr style=\"text-align: right;\">\n",
              "      <th></th>\n",
              "      <th>clean_text</th>\n",
              "      <th>Sentiment</th>\n",
              "    </tr>\n",
              "  </thead>\n",
              "  <tbody>\n",
              "    <tr>\n",
              "      <th>0</th>\n",
              "      <td>TheSocialDilemma is an eye opener isn t it ple...</td>\n",
              "      <td>Neutral</td>\n",
              "    </tr>\n",
              "    <tr>\n",
              "      <th>1</th>\n",
              "      <td>TheSocialDilemma If we don t agree on what is ...</td>\n",
              "      <td>Positive</td>\n",
              "    </tr>\n",
              "    <tr>\n",
              "      <th>2</th>\n",
              "      <td>Watching TheSocialDilemma scary to see social ...</td>\n",
              "      <td>Negative</td>\n",
              "    </tr>\n",
              "    <tr>\n",
              "      <th>3</th>\n",
              "      <td>You check your social media before you pee in ...</td>\n",
              "      <td>Positive</td>\n",
              "    </tr>\n",
              "    <tr>\n",
              "      <th>4</th>\n",
              "      <td>watch thesocialdilemma and see what s actually...</td>\n",
              "      <td>Negative</td>\n",
              "    </tr>\n",
              "    <tr>\n",
              "      <th>...</th>\n",
              "      <td>...</td>\n",
              "      <td>...</td>\n",
              "    </tr>\n",
              "    <tr>\n",
              "      <th>16995</th>\n",
              "      <td>Watching TheSocialDilemma</td>\n",
              "      <td>Neutral</td>\n",
              "    </tr>\n",
              "    <tr>\n",
              "      <th>16996</th>\n",
              "      <td>If you re not paying for the product you are t...</td>\n",
              "      <td>Neutral</td>\n",
              "    </tr>\n",
              "    <tr>\n",
              "      <th>16997</th>\n",
              "      <td>Watching TheSocialDilemma Let s see</td>\n",
              "      <td>Neutral</td>\n",
              "    </tr>\n",
              "    <tr>\n",
              "      <th>16998</th>\n",
              "      <td>Yes TheSocialDilemma what a perfect time to be...</td>\n",
              "      <td>Positive</td>\n",
              "    </tr>\n",
              "    <tr>\n",
              "      <th>16999</th>\n",
              "      <td>had the impression that is actually sitting in...</td>\n",
              "      <td>Negative</td>\n",
              "    </tr>\n",
              "  </tbody>\n",
              "</table>\n",
              "<p>17000 rows × 2 columns</p>\n",
              "</div>\n",
              "      <button class=\"colab-df-convert\" onclick=\"convertToInteractive('df-7d9a0fb1-bf68-4f41-a51f-51cc81111a9c')\"\n",
              "              title=\"Convert this dataframe to an interactive table.\"\n",
              "              style=\"display:none;\">\n",
              "        \n",
              "  <svg xmlns=\"http://www.w3.org/2000/svg\" height=\"24px\"viewBox=\"0 0 24 24\"\n",
              "       width=\"24px\">\n",
              "    <path d=\"M0 0h24v24H0V0z\" fill=\"none\"/>\n",
              "    <path d=\"M18.56 5.44l.94 2.06.94-2.06 2.06-.94-2.06-.94-.94-2.06-.94 2.06-2.06.94zm-11 1L8.5 8.5l.94-2.06 2.06-.94-2.06-.94L8.5 2.5l-.94 2.06-2.06.94zm10 10l.94 2.06.94-2.06 2.06-.94-2.06-.94-.94-2.06-.94 2.06-2.06.94z\"/><path d=\"M17.41 7.96l-1.37-1.37c-.4-.4-.92-.59-1.43-.59-.52 0-1.04.2-1.43.59L10.3 9.45l-7.72 7.72c-.78.78-.78 2.05 0 2.83L4 21.41c.39.39.9.59 1.41.59.51 0 1.02-.2 1.41-.59l7.78-7.78 2.81-2.81c.8-.78.8-2.07 0-2.86zM5.41 20L4 18.59l7.72-7.72 1.47 1.35L5.41 20z\"/>\n",
              "  </svg>\n",
              "      </button>\n",
              "      \n",
              "  <style>\n",
              "    .colab-df-container {\n",
              "      display:flex;\n",
              "      flex-wrap:wrap;\n",
              "      gap: 12px;\n",
              "    }\n",
              "\n",
              "    .colab-df-convert {\n",
              "      background-color: #E8F0FE;\n",
              "      border: none;\n",
              "      border-radius: 50%;\n",
              "      cursor: pointer;\n",
              "      display: none;\n",
              "      fill: #1967D2;\n",
              "      height: 32px;\n",
              "      padding: 0 0 0 0;\n",
              "      width: 32px;\n",
              "    }\n",
              "\n",
              "    .colab-df-convert:hover {\n",
              "      background-color: #E2EBFA;\n",
              "      box-shadow: 0px 1px 2px rgba(60, 64, 67, 0.3), 0px 1px 3px 1px rgba(60, 64, 67, 0.15);\n",
              "      fill: #174EA6;\n",
              "    }\n",
              "\n",
              "    [theme=dark] .colab-df-convert {\n",
              "      background-color: #3B4455;\n",
              "      fill: #D2E3FC;\n",
              "    }\n",
              "\n",
              "    [theme=dark] .colab-df-convert:hover {\n",
              "      background-color: #434B5C;\n",
              "      box-shadow: 0px 1px 3px 1px rgba(0, 0, 0, 0.15);\n",
              "      filter: drop-shadow(0px 1px 2px rgba(0, 0, 0, 0.3));\n",
              "      fill: #FFFFFF;\n",
              "    }\n",
              "  </style>\n",
              "\n",
              "      <script>\n",
              "        const buttonEl =\n",
              "          document.querySelector('#df-7d9a0fb1-bf68-4f41-a51f-51cc81111a9c button.colab-df-convert');\n",
              "        buttonEl.style.display =\n",
              "          google.colab.kernel.accessAllowed ? 'block' : 'none';\n",
              "\n",
              "        async function convertToInteractive(key) {\n",
              "          const element = document.querySelector('#df-7d9a0fb1-bf68-4f41-a51f-51cc81111a9c');\n",
              "          const dataTable =\n",
              "            await google.colab.kernel.invokeFunction('convertToInteractive',\n",
              "                                                     [key], {});\n",
              "          if (!dataTable) return;\n",
              "\n",
              "          const docLinkHtml = 'Like what you see? Visit the ' +\n",
              "            '<a target=\"_blank\" href=https://colab.research.google.com/notebooks/data_table.ipynb>data table notebook</a>'\n",
              "            + ' to learn more about interactive tables.';\n",
              "          element.innerHTML = '';\n",
              "          dataTable['output_type'] = 'display_data';\n",
              "          await google.colab.output.renderOutput(dataTable, element);\n",
              "          const docLink = document.createElement('div');\n",
              "          docLink.innerHTML = docLinkHtml;\n",
              "          element.appendChild(docLink);\n",
              "        }\n",
              "      </script>\n",
              "    </div>\n",
              "  </div>\n",
              "  "
            ],
            "text/plain": [
              "                                              clean_text Sentiment\n",
              "0      TheSocialDilemma is an eye opener isn t it ple...   Neutral\n",
              "1      TheSocialDilemma If we don t agree on what is ...  Positive\n",
              "2      Watching TheSocialDilemma scary to see social ...  Negative\n",
              "3      You check your social media before you pee in ...  Positive\n",
              "4      watch thesocialdilemma and see what s actually...  Negative\n",
              "...                                                  ...       ...\n",
              "16995                          Watching TheSocialDilemma   Neutral\n",
              "16996  If you re not paying for the product you are t...   Neutral\n",
              "16997                Watching TheSocialDilemma Let s see   Neutral\n",
              "16998  Yes TheSocialDilemma what a perfect time to be...  Positive\n",
              "16999  had the impression that is actually sitting in...  Negative\n",
              "\n",
              "[17000 rows x 2 columns]"
            ]
          },
          "metadata": {},
          "execution_count": 12
        }
      ]
    },
    {
      "cell_type": "markdown",
      "source": [
        "###Finding null values"
      ],
      "metadata": {
        "id": "FMtqpcqvmO5O"
      }
    },
    {
      "cell_type": "code",
      "source": [
        "final_train.isnull().sum()"
      ],
      "metadata": {
        "colab": {
          "base_uri": "https://localhost:8080/"
        },
        "id": "oECQYxRa74Pa",
        "outputId": "235a3e6b-596f-47cc-9628-6748d871dc3b"
      },
      "execution_count": 13,
      "outputs": [
        {
          "output_type": "execute_result",
          "data": {
            "text/plain": [
              "clean_text    8\n",
              "Sentiment     0\n",
              "dtype: int64"
            ]
          },
          "metadata": {},
          "execution_count": 13
        }
      ]
    },
    {
      "cell_type": "code",
      "source": [
        "final_train[final_train[\"clean_text\"].isnull()]"
      ],
      "metadata": {
        "colab": {
          "base_uri": "https://localhost:8080/",
          "height": 300
        },
        "id": "LoL7Mvm99ZpL",
        "outputId": "4e7ccdd2-9c95-4d43-b49d-fddedbb44d6a"
      },
      "execution_count": 14,
      "outputs": [
        {
          "output_type": "execute_result",
          "data": {
            "text/html": [
              "\n",
              "  <div id=\"df-968e1043-7743-4303-91b9-0ca0bfd21fc1\">\n",
              "    <div class=\"colab-df-container\">\n",
              "      <div>\n",
              "<style scoped>\n",
              "    .dataframe tbody tr th:only-of-type {\n",
              "        vertical-align: middle;\n",
              "    }\n",
              "\n",
              "    .dataframe tbody tr th {\n",
              "        vertical-align: top;\n",
              "    }\n",
              "\n",
              "    .dataframe thead th {\n",
              "        text-align: right;\n",
              "    }\n",
              "</style>\n",
              "<table border=\"1\" class=\"dataframe\">\n",
              "  <thead>\n",
              "    <tr style=\"text-align: right;\">\n",
              "      <th></th>\n",
              "      <th>clean_text</th>\n",
              "      <th>Sentiment</th>\n",
              "    </tr>\n",
              "  </thead>\n",
              "  <tbody>\n",
              "    <tr>\n",
              "      <th>997</th>\n",
              "      <td>NaN</td>\n",
              "      <td>Neutral</td>\n",
              "    </tr>\n",
              "    <tr>\n",
              "      <th>2460</th>\n",
              "      <td>NaN</td>\n",
              "      <td>Neutral</td>\n",
              "    </tr>\n",
              "    <tr>\n",
              "      <th>4130</th>\n",
              "      <td>NaN</td>\n",
              "      <td>Neutral</td>\n",
              "    </tr>\n",
              "    <tr>\n",
              "      <th>5817</th>\n",
              "      <td>NaN</td>\n",
              "      <td>Neutral</td>\n",
              "    </tr>\n",
              "    <tr>\n",
              "      <th>9121</th>\n",
              "      <td>NaN</td>\n",
              "      <td>Neutral</td>\n",
              "    </tr>\n",
              "    <tr>\n",
              "      <th>9375</th>\n",
              "      <td>NaN</td>\n",
              "      <td>Neutral</td>\n",
              "    </tr>\n",
              "    <tr>\n",
              "      <th>15791</th>\n",
              "      <td>NaN</td>\n",
              "      <td>Neutral</td>\n",
              "    </tr>\n",
              "    <tr>\n",
              "      <th>16462</th>\n",
              "      <td>NaN</td>\n",
              "      <td>Neutral</td>\n",
              "    </tr>\n",
              "  </tbody>\n",
              "</table>\n",
              "</div>\n",
              "      <button class=\"colab-df-convert\" onclick=\"convertToInteractive('df-968e1043-7743-4303-91b9-0ca0bfd21fc1')\"\n",
              "              title=\"Convert this dataframe to an interactive table.\"\n",
              "              style=\"display:none;\">\n",
              "        \n",
              "  <svg xmlns=\"http://www.w3.org/2000/svg\" height=\"24px\"viewBox=\"0 0 24 24\"\n",
              "       width=\"24px\">\n",
              "    <path d=\"M0 0h24v24H0V0z\" fill=\"none\"/>\n",
              "    <path d=\"M18.56 5.44l.94 2.06.94-2.06 2.06-.94-2.06-.94-.94-2.06-.94 2.06-2.06.94zm-11 1L8.5 8.5l.94-2.06 2.06-.94-2.06-.94L8.5 2.5l-.94 2.06-2.06.94zm10 10l.94 2.06.94-2.06 2.06-.94-2.06-.94-.94-2.06-.94 2.06-2.06.94z\"/><path d=\"M17.41 7.96l-1.37-1.37c-.4-.4-.92-.59-1.43-.59-.52 0-1.04.2-1.43.59L10.3 9.45l-7.72 7.72c-.78.78-.78 2.05 0 2.83L4 21.41c.39.39.9.59 1.41.59.51 0 1.02-.2 1.41-.59l7.78-7.78 2.81-2.81c.8-.78.8-2.07 0-2.86zM5.41 20L4 18.59l7.72-7.72 1.47 1.35L5.41 20z\"/>\n",
              "  </svg>\n",
              "      </button>\n",
              "      \n",
              "  <style>\n",
              "    .colab-df-container {\n",
              "      display:flex;\n",
              "      flex-wrap:wrap;\n",
              "      gap: 12px;\n",
              "    }\n",
              "\n",
              "    .colab-df-convert {\n",
              "      background-color: #E8F0FE;\n",
              "      border: none;\n",
              "      border-radius: 50%;\n",
              "      cursor: pointer;\n",
              "      display: none;\n",
              "      fill: #1967D2;\n",
              "      height: 32px;\n",
              "      padding: 0 0 0 0;\n",
              "      width: 32px;\n",
              "    }\n",
              "\n",
              "    .colab-df-convert:hover {\n",
              "      background-color: #E2EBFA;\n",
              "      box-shadow: 0px 1px 2px rgba(60, 64, 67, 0.3), 0px 1px 3px 1px rgba(60, 64, 67, 0.15);\n",
              "      fill: #174EA6;\n",
              "    }\n",
              "\n",
              "    [theme=dark] .colab-df-convert {\n",
              "      background-color: #3B4455;\n",
              "      fill: #D2E3FC;\n",
              "    }\n",
              "\n",
              "    [theme=dark] .colab-df-convert:hover {\n",
              "      background-color: #434B5C;\n",
              "      box-shadow: 0px 1px 3px 1px rgba(0, 0, 0, 0.15);\n",
              "      filter: drop-shadow(0px 1px 2px rgba(0, 0, 0, 0.3));\n",
              "      fill: #FFFFFF;\n",
              "    }\n",
              "  </style>\n",
              "\n",
              "      <script>\n",
              "        const buttonEl =\n",
              "          document.querySelector('#df-968e1043-7743-4303-91b9-0ca0bfd21fc1 button.colab-df-convert');\n",
              "        buttonEl.style.display =\n",
              "          google.colab.kernel.accessAllowed ? 'block' : 'none';\n",
              "\n",
              "        async function convertToInteractive(key) {\n",
              "          const element = document.querySelector('#df-968e1043-7743-4303-91b9-0ca0bfd21fc1');\n",
              "          const dataTable =\n",
              "            await google.colab.kernel.invokeFunction('convertToInteractive',\n",
              "                                                     [key], {});\n",
              "          if (!dataTable) return;\n",
              "\n",
              "          const docLinkHtml = 'Like what you see? Visit the ' +\n",
              "            '<a target=\"_blank\" href=https://colab.research.google.com/notebooks/data_table.ipynb>data table notebook</a>'\n",
              "            + ' to learn more about interactive tables.';\n",
              "          element.innerHTML = '';\n",
              "          dataTable['output_type'] = 'display_data';\n",
              "          await google.colab.output.renderOutput(dataTable, element);\n",
              "          const docLink = document.createElement('div');\n",
              "          docLink.innerHTML = docLinkHtml;\n",
              "          element.appendChild(docLink);\n",
              "        }\n",
              "      </script>\n",
              "    </div>\n",
              "  </div>\n",
              "  "
            ],
            "text/plain": [
              "      clean_text Sentiment\n",
              "997          NaN   Neutral\n",
              "2460         NaN   Neutral\n",
              "4130         NaN   Neutral\n",
              "5817         NaN   Neutral\n",
              "9121         NaN   Neutral\n",
              "9375         NaN   Neutral\n",
              "15791        NaN   Neutral\n",
              "16462        NaN   Neutral"
            ]
          },
          "metadata": {},
          "execution_count": 14
        }
      ]
    },
    {
      "cell_type": "code",
      "source": [
        "final_train.dropna(inplace=True)"
      ],
      "metadata": {
        "id": "R8pt96kA-DiJ"
      },
      "execution_count": 15,
      "outputs": []
    },
    {
      "cell_type": "code",
      "source": [
        "final_train.isnull().sum()"
      ],
      "metadata": {
        "colab": {
          "base_uri": "https://localhost:8080/"
        },
        "id": "2B667Aoi-LQA",
        "outputId": "8196593d-537b-4ac8-ebf2-35a7f68bf934"
      },
      "execution_count": 16,
      "outputs": [
        {
          "output_type": "execute_result",
          "data": {
            "text/plain": [
              "clean_text    0\n",
              "Sentiment     0\n",
              "dtype: int64"
            ]
          },
          "metadata": {},
          "execution_count": 16
        }
      ]
    },
    {
      "cell_type": "markdown",
      "source": [
        "###Cleaning the test data"
      ],
      "metadata": {
        "id": "DSm5dRC3qoNk"
      }
    },
    {
      "cell_type": "code",
      "source": [
        "test_df"
      ],
      "metadata": {
        "colab": {
          "base_uri": "https://localhost:8080/",
          "height": 870
        },
        "id": "xQOkNL6rpF-S",
        "outputId": "313b5d83-ba1e-497d-bc6f-42957b8d8c79"
      },
      "execution_count": 17,
      "outputs": [
        {
          "output_type": "execute_result",
          "data": {
            "text/html": [
              "\n",
              "  <div id=\"df-5745e2c4-038b-4b7b-a0ce-2a15d68fef7a\">\n",
              "    <div class=\"colab-df-container\">\n",
              "      <div>\n",
              "<style scoped>\n",
              "    .dataframe tbody tr th:only-of-type {\n",
              "        vertical-align: middle;\n",
              "    }\n",
              "\n",
              "    .dataframe tbody tr th {\n",
              "        vertical-align: top;\n",
              "    }\n",
              "\n",
              "    .dataframe thead th {\n",
              "        text-align: right;\n",
              "    }\n",
              "</style>\n",
              "<table border=\"1\" class=\"dataframe\">\n",
              "  <thead>\n",
              "    <tr style=\"text-align: right;\">\n",
              "      <th></th>\n",
              "      <th>user_name</th>\n",
              "      <th>user_location</th>\n",
              "      <th>user_description</th>\n",
              "      <th>user_created</th>\n",
              "      <th>user_followers</th>\n",
              "      <th>user_friends</th>\n",
              "      <th>user_favourites</th>\n",
              "      <th>user_verified</th>\n",
              "      <th>date</th>\n",
              "      <th>hashtags</th>\n",
              "      <th>source</th>\n",
              "      <th>is_retweet</th>\n",
              "      <th>clean_text</th>\n",
              "    </tr>\n",
              "  </thead>\n",
              "  <tbody>\n",
              "    <tr>\n",
              "      <th>0</th>\n",
              "      <td>Doug Webb</td>\n",
              "      <td>Probably Europe</td>\n",
              "      <td>I develop methods for effective cooperation, w...</td>\n",
              "      <td>2015-12-12 15:22:58</td>\n",
              "      <td>157</td>\n",
              "      <td>228</td>\n",
              "      <td>496</td>\n",
              "      <td>False</td>\n",
              "      <td>2020-09-15 22:53:36</td>\n",
              "      <td>['theSocialDilemma', 'joinMastodon']</td>\n",
              "      <td>Twitter Web App</td>\n",
              "      <td>False</td>\n",
              "      <td>Watch theSocialDilemma then joinMastodon</td>\n",
              "    </tr>\n",
              "    <tr>\n",
              "      <th>1</th>\n",
              "      <td>Dan Reynish</td>\n",
              "      <td>Medicine Hat, Alberta</td>\n",
              "      <td>News Anchor at Noon and 5 pm on CHAT TV. Canad...</td>\n",
              "      <td>2011-09-10 12:17:10</td>\n",
              "      <td>1722</td>\n",
              "      <td>2500</td>\n",
              "      <td>13912</td>\n",
              "      <td>False</td>\n",
              "      <td>2020-09-12 04:43:03</td>\n",
              "      <td>['WeTheNorth']</td>\n",
              "      <td>Twitter Web App</td>\n",
              "      <td>False</td>\n",
              "      <td>With the 2019 2020 NBA season officially over ...</td>\n",
              "    </tr>\n",
              "    <tr>\n",
              "      <th>2</th>\n",
              "      <td>🌤</td>\n",
              "      <td>NaN</td>\n",
              "      <td>NaN</td>\n",
              "      <td>2011-06-01 02:23:57</td>\n",
              "      <td>880</td>\n",
              "      <td>585</td>\n",
              "      <td>205</td>\n",
              "      <td>False</td>\n",
              "      <td>2020-09-19 07:06:53</td>\n",
              "      <td>['TheSocialDilemma']</td>\n",
              "      <td>Twitter for iPhone</td>\n",
              "      <td>False</td>\n",
              "      <td>if you want to really know about people go tal...</td>\n",
              "    </tr>\n",
              "    <tr>\n",
              "      <th>3</th>\n",
              "      <td>“IT IS WHAT IT IS.”🇰🇪🇳🇿🇺🇸</td>\n",
              "      <td>WA</td>\n",
              "      <td>Heliophile🌞☀️• #Rugby • Wildlifer • #HIV • #So...</td>\n",
              "      <td>2009-04-17 13:35:02</td>\n",
              "      <td>1143</td>\n",
              "      <td>2692</td>\n",
              "      <td>11999</td>\n",
              "      <td>False</td>\n",
              "      <td>2020-09-12 18:28:18</td>\n",
              "      <td>['TheSocialDilemma', 'Netflix']</td>\n",
              "      <td>Twitter for iPhone</td>\n",
              "      <td>False</td>\n",
              "      <td>Have you watched TheSocialDilemma on Netflix</td>\n",
              "    </tr>\n",
              "    <tr>\n",
              "      <th>4</th>\n",
              "      <td>Mahima Sood</td>\n",
              "      <td>NaN</td>\n",
              "      <td>Amy Dunne X Holly Golightly || Data Scientist ...</td>\n",
              "      <td>2018-01-26 21:57:22</td>\n",
              "      <td>18</td>\n",
              "      <td>65</td>\n",
              "      <td>263</td>\n",
              "      <td>False</td>\n",
              "      <td>2020-09-12 18:48:53</td>\n",
              "      <td>['TheSocialDilemma']</td>\n",
              "      <td>Twitter for iPhone</td>\n",
              "      <td>False</td>\n",
              "      <td>Highly recommend TheSocialDilemma on</td>\n",
              "    </tr>\n",
              "    <tr>\n",
              "      <th>...</th>\n",
              "      <td>...</td>\n",
              "      <td>...</td>\n",
              "      <td>...</td>\n",
              "      <td>...</td>\n",
              "      <td>...</td>\n",
              "      <td>...</td>\n",
              "      <td>...</td>\n",
              "      <td>...</td>\n",
              "      <td>...</td>\n",
              "      <td>...</td>\n",
              "      <td>...</td>\n",
              "      <td>...</td>\n",
              "      <td>...</td>\n",
              "    </tr>\n",
              "    <tr>\n",
              "      <th>3063</th>\n",
              "      <td>𝘔𝘶𝘳𝘪;🦋</td>\n",
              "      <td>𝘶𝘯𝘥𝘦𝘳 𝘵𝘩𝘦 𝘱𝘢𝘭𝘮𝘴🌴</td>\n",
              "      <td>𝘸𝘪𝘧𝘦 // 𝘤𝘢𝘵 𝘮𝘰𝘮 // 𝘱𝘴𝘺𝘤𝘩𝘰𝘭𝘰𝘨𝘪𝘴𝘵; 🧠 𝘣𝘦𝘢𝘤𝘩𝘣𝘶𝘮;🌴</td>\n",
              "      <td>2009-07-29 03:18:16</td>\n",
              "      <td>942</td>\n",
              "      <td>357</td>\n",
              "      <td>9917</td>\n",
              "      <td>False</td>\n",
              "      <td>2020-09-14 12:27:35</td>\n",
              "      <td>['TheSocialDilemma']</td>\n",
              "      <td>Twitter for iPhone</td>\n",
              "      <td>False</td>\n",
              "      <td>Everybody should watch TheSocialDilemma</td>\n",
              "    </tr>\n",
              "    <tr>\n",
              "      <th>3064</th>\n",
              "      <td>Didi Crawford</td>\n",
              "      <td>Birmingham, England</td>\n",
              "      <td>Traveller | Blogger | Currently growing a huma...</td>\n",
              "      <td>2011-12-06 09:24:20</td>\n",
              "      <td>468</td>\n",
              "      <td>1095</td>\n",
              "      <td>3440</td>\n",
              "      <td>False</td>\n",
              "      <td>2020-09-22 19:25:48</td>\n",
              "      <td>['TheSocialDilemma']</td>\n",
              "      <td>Twitter for iPhone</td>\n",
              "      <td>False</td>\n",
              "      <td>Enjoyed TheSocialDilemma Then read this</td>\n",
              "    </tr>\n",
              "    <tr>\n",
              "      <th>3065</th>\n",
              "      <td>Ritwik Arora</td>\n",
              "      <td>NaN</td>\n",
              "      <td>Spent the last 30 minutes writing this bio, ch...</td>\n",
              "      <td>2020-10-13 01:12:06</td>\n",
              "      <td>10</td>\n",
              "      <td>137</td>\n",
              "      <td>106</td>\n",
              "      <td>False</td>\n",
              "      <td>2020-10-13 02:41:26</td>\n",
              "      <td>['TheSocialDilemma']</td>\n",
              "      <td>Twitter for Android</td>\n",
              "      <td>False</td>\n",
              "      <td>Couldn t stop thinking about docu TheSocialDil...</td>\n",
              "    </tr>\n",
              "    <tr>\n",
              "      <th>3066</th>\n",
              "      <td>Nishant Mody</td>\n",
              "      <td>Mumbai</td>\n",
              "      <td>I love music, dogs, nature, politics &amp; marketi...</td>\n",
              "      <td>2012-12-30 04:58:15</td>\n",
              "      <td>174</td>\n",
              "      <td>541</td>\n",
              "      <td>5482</td>\n",
              "      <td>False</td>\n",
              "      <td>2020-09-10 17:19:44</td>\n",
              "      <td>['TheSocialDilemma']</td>\n",
              "      <td>Twitter for iPhone</td>\n",
              "      <td>False</td>\n",
              "      <td>This was the best one by on TheSocialDilemma on</td>\n",
              "    </tr>\n",
              "    <tr>\n",
              "      <th>3067</th>\n",
              "      <td>Quarantine James 🏁🇻🇨</td>\n",
              "      <td>Brooklyn!!!</td>\n",
              "      <td>Co-founder of Mokete Events &amp; photo booth rent...</td>\n",
              "      <td>2011-05-19 20:09:21</td>\n",
              "      <td>332</td>\n",
              "      <td>328</td>\n",
              "      <td>14642</td>\n",
              "      <td>False</td>\n",
              "      <td>2020-09-12 13:15:41</td>\n",
              "      <td>['TheSocialDilemma']</td>\n",
              "      <td>Twitter for Android</td>\n",
              "      <td>False</td>\n",
              "      <td>TheSocialDilemma on Netflix wow</td>\n",
              "    </tr>\n",
              "  </tbody>\n",
              "</table>\n",
              "<p>3068 rows × 13 columns</p>\n",
              "</div>\n",
              "      <button class=\"colab-df-convert\" onclick=\"convertToInteractive('df-5745e2c4-038b-4b7b-a0ce-2a15d68fef7a')\"\n",
              "              title=\"Convert this dataframe to an interactive table.\"\n",
              "              style=\"display:none;\">\n",
              "        \n",
              "  <svg xmlns=\"http://www.w3.org/2000/svg\" height=\"24px\"viewBox=\"0 0 24 24\"\n",
              "       width=\"24px\">\n",
              "    <path d=\"M0 0h24v24H0V0z\" fill=\"none\"/>\n",
              "    <path d=\"M18.56 5.44l.94 2.06.94-2.06 2.06-.94-2.06-.94-.94-2.06-.94 2.06-2.06.94zm-11 1L8.5 8.5l.94-2.06 2.06-.94-2.06-.94L8.5 2.5l-.94 2.06-2.06.94zm10 10l.94 2.06.94-2.06 2.06-.94-2.06-.94-.94-2.06-.94 2.06-2.06.94z\"/><path d=\"M17.41 7.96l-1.37-1.37c-.4-.4-.92-.59-1.43-.59-.52 0-1.04.2-1.43.59L10.3 9.45l-7.72 7.72c-.78.78-.78 2.05 0 2.83L4 21.41c.39.39.9.59 1.41.59.51 0 1.02-.2 1.41-.59l7.78-7.78 2.81-2.81c.8-.78.8-2.07 0-2.86zM5.41 20L4 18.59l7.72-7.72 1.47 1.35L5.41 20z\"/>\n",
              "  </svg>\n",
              "      </button>\n",
              "      \n",
              "  <style>\n",
              "    .colab-df-container {\n",
              "      display:flex;\n",
              "      flex-wrap:wrap;\n",
              "      gap: 12px;\n",
              "    }\n",
              "\n",
              "    .colab-df-convert {\n",
              "      background-color: #E8F0FE;\n",
              "      border: none;\n",
              "      border-radius: 50%;\n",
              "      cursor: pointer;\n",
              "      display: none;\n",
              "      fill: #1967D2;\n",
              "      height: 32px;\n",
              "      padding: 0 0 0 0;\n",
              "      width: 32px;\n",
              "    }\n",
              "\n",
              "    .colab-df-convert:hover {\n",
              "      background-color: #E2EBFA;\n",
              "      box-shadow: 0px 1px 2px rgba(60, 64, 67, 0.3), 0px 1px 3px 1px rgba(60, 64, 67, 0.15);\n",
              "      fill: #174EA6;\n",
              "    }\n",
              "\n",
              "    [theme=dark] .colab-df-convert {\n",
              "      background-color: #3B4455;\n",
              "      fill: #D2E3FC;\n",
              "    }\n",
              "\n",
              "    [theme=dark] .colab-df-convert:hover {\n",
              "      background-color: #434B5C;\n",
              "      box-shadow: 0px 1px 3px 1px rgba(0, 0, 0, 0.15);\n",
              "      filter: drop-shadow(0px 1px 2px rgba(0, 0, 0, 0.3));\n",
              "      fill: #FFFFFF;\n",
              "    }\n",
              "  </style>\n",
              "\n",
              "      <script>\n",
              "        const buttonEl =\n",
              "          document.querySelector('#df-5745e2c4-038b-4b7b-a0ce-2a15d68fef7a button.colab-df-convert');\n",
              "        buttonEl.style.display =\n",
              "          google.colab.kernel.accessAllowed ? 'block' : 'none';\n",
              "\n",
              "        async function convertToInteractive(key) {\n",
              "          const element = document.querySelector('#df-5745e2c4-038b-4b7b-a0ce-2a15d68fef7a');\n",
              "          const dataTable =\n",
              "            await google.colab.kernel.invokeFunction('convertToInteractive',\n",
              "                                                     [key], {});\n",
              "          if (!dataTable) return;\n",
              "\n",
              "          const docLinkHtml = 'Like what you see? Visit the ' +\n",
              "            '<a target=\"_blank\" href=https://colab.research.google.com/notebooks/data_table.ipynb>data table notebook</a>'\n",
              "            + ' to learn more about interactive tables.';\n",
              "          element.innerHTML = '';\n",
              "          dataTable['output_type'] = 'display_data';\n",
              "          await google.colab.output.renderOutput(dataTable, element);\n",
              "          const docLink = document.createElement('div');\n",
              "          docLink.innerHTML = docLinkHtml;\n",
              "          element.appendChild(docLink);\n",
              "        }\n",
              "      </script>\n",
              "    </div>\n",
              "  </div>\n",
              "  "
            ],
            "text/plain": [
              "                      user_name          user_location  \\\n",
              "0                     Doug Webb        Probably Europe   \n",
              "1                   Dan Reynish  Medicine Hat, Alberta   \n",
              "2                             🌤                    NaN   \n",
              "3     “IT IS WHAT IT IS.”🇰🇪🇳🇿🇺🇸                     WA   \n",
              "4                   Mahima Sood                    NaN   \n",
              "...                         ...                    ...   \n",
              "3063                     𝘔𝘶𝘳𝘪;🦋       𝘶𝘯𝘥𝘦𝘳 𝘵𝘩𝘦 𝘱𝘢𝘭𝘮𝘴🌴   \n",
              "3064              Didi Crawford    Birmingham, England   \n",
              "3065               Ritwik Arora                    NaN   \n",
              "3066               Nishant Mody                 Mumbai   \n",
              "3067       Quarantine James 🏁🇻🇨            Brooklyn!!!   \n",
              "\n",
              "                                       user_description         user_created  \\\n",
              "0     I develop methods for effective cooperation, w...  2015-12-12 15:22:58   \n",
              "1     News Anchor at Noon and 5 pm on CHAT TV. Canad...  2011-09-10 12:17:10   \n",
              "2                                                   NaN  2011-06-01 02:23:57   \n",
              "3     Heliophile🌞☀️• #Rugby • Wildlifer • #HIV • #So...  2009-04-17 13:35:02   \n",
              "4     Amy Dunne X Holly Golightly || Data Scientist ...  2018-01-26 21:57:22   \n",
              "...                                                 ...                  ...   \n",
              "3063      𝘸𝘪𝘧𝘦 // 𝘤𝘢𝘵 𝘮𝘰𝘮 // 𝘱𝘴𝘺𝘤𝘩𝘰𝘭𝘰𝘨𝘪𝘴𝘵; 🧠 𝘣𝘦𝘢𝘤𝘩𝘣𝘶𝘮;🌴  2009-07-29 03:18:16   \n",
              "3064  Traveller | Blogger | Currently growing a huma...  2011-12-06 09:24:20   \n",
              "3065  Spent the last 30 minutes writing this bio, ch...  2020-10-13 01:12:06   \n",
              "3066  I love music, dogs, nature, politics & marketi...  2012-12-30 04:58:15   \n",
              "3067  Co-founder of Mokete Events & photo booth rent...  2011-05-19 20:09:21   \n",
              "\n",
              "      user_followers  user_friends  user_favourites  user_verified  \\\n",
              "0                157           228              496          False   \n",
              "1               1722          2500            13912          False   \n",
              "2                880           585              205          False   \n",
              "3               1143          2692            11999          False   \n",
              "4                 18            65              263          False   \n",
              "...              ...           ...              ...            ...   \n",
              "3063             942           357             9917          False   \n",
              "3064             468          1095             3440          False   \n",
              "3065              10           137              106          False   \n",
              "3066             174           541             5482          False   \n",
              "3067             332           328            14642          False   \n",
              "\n",
              "                     date                              hashtags  \\\n",
              "0     2020-09-15 22:53:36  ['theSocialDilemma', 'joinMastodon']   \n",
              "1     2020-09-12 04:43:03                        ['WeTheNorth']   \n",
              "2     2020-09-19 07:06:53                  ['TheSocialDilemma']   \n",
              "3     2020-09-12 18:28:18       ['TheSocialDilemma', 'Netflix']   \n",
              "4     2020-09-12 18:48:53                  ['TheSocialDilemma']   \n",
              "...                   ...                                   ...   \n",
              "3063  2020-09-14 12:27:35                  ['TheSocialDilemma']   \n",
              "3064  2020-09-22 19:25:48                  ['TheSocialDilemma']   \n",
              "3065  2020-10-13 02:41:26                  ['TheSocialDilemma']   \n",
              "3066  2020-09-10 17:19:44                  ['TheSocialDilemma']   \n",
              "3067  2020-09-12 13:15:41                  ['TheSocialDilemma']   \n",
              "\n",
              "                   source  is_retweet  \\\n",
              "0         Twitter Web App       False   \n",
              "1         Twitter Web App       False   \n",
              "2      Twitter for iPhone       False   \n",
              "3      Twitter for iPhone       False   \n",
              "4      Twitter for iPhone       False   \n",
              "...                   ...         ...   \n",
              "3063   Twitter for iPhone       False   \n",
              "3064   Twitter for iPhone       False   \n",
              "3065  Twitter for Android       False   \n",
              "3066   Twitter for iPhone       False   \n",
              "3067  Twitter for Android       False   \n",
              "\n",
              "                                             clean_text  \n",
              "0              Watch theSocialDilemma then joinMastodon  \n",
              "1     With the 2019 2020 NBA season officially over ...  \n",
              "2     if you want to really know about people go tal...  \n",
              "3          Have you watched TheSocialDilemma on Netflix  \n",
              "4                  Highly recommend TheSocialDilemma on  \n",
              "...                                                 ...  \n",
              "3063            Everybody should watch TheSocialDilemma  \n",
              "3064            Enjoyed TheSocialDilemma Then read this  \n",
              "3065  Couldn t stop thinking about docu TheSocialDil...  \n",
              "3066    This was the best one by on TheSocialDilemma on  \n",
              "3067                    TheSocialDilemma on Netflix wow  \n",
              "\n",
              "[3068 rows x 13 columns]"
            ]
          },
          "metadata": {},
          "execution_count": 17
        }
      ]
    },
    {
      "cell_type": "code",
      "source": [
        "final_test = test_df[\"clean_text\"]\n",
        "final_test"
      ],
      "metadata": {
        "colab": {
          "base_uri": "https://localhost:8080/"
        },
        "id": "_rwdQAlvpW1h",
        "outputId": "8cec310c-9eb6-402d-aeb7-a29737ddf8a3"
      },
      "execution_count": 18,
      "outputs": [
        {
          "output_type": "execute_result",
          "data": {
            "text/plain": [
              "0                Watch theSocialDilemma then joinMastodon\n",
              "1       With the 2019 2020 NBA season officially over ...\n",
              "2       if you want to really know about people go tal...\n",
              "3            Have you watched TheSocialDilemma on Netflix\n",
              "4                    Highly recommend TheSocialDilemma on\n",
              "                              ...                        \n",
              "3063              Everybody should watch TheSocialDilemma\n",
              "3064              Enjoyed TheSocialDilemma Then read this\n",
              "3065    Couldn t stop thinking about docu TheSocialDil...\n",
              "3066      This was the best one by on TheSocialDilemma on\n",
              "3067                      TheSocialDilemma on Netflix wow\n",
              "Name: clean_text, Length: 3068, dtype: object"
            ]
          },
          "metadata": {},
          "execution_count": 18
        }
      ]
    },
    {
      "cell_type": "markdown",
      "source": [
        "###Plotting a graph based on different types of text"
      ],
      "metadata": {
        "id": "v1KnnmWrq18B"
      }
    },
    {
      "cell_type": "code",
      "source": [
        "sns.countplot(final_train[\"Sentiment\"])\n",
        "plt.show()"
      ],
      "metadata": {
        "colab": {
          "base_uri": "https://localhost:8080/",
          "height": 285
        },
        "id": "XSHfirNNptbJ",
        "outputId": "952f7bc5-7d95-4e28-b499-554ab624e020"
      },
      "execution_count": 19,
      "outputs": [
        {
          "output_type": "display_data",
          "data": {
            "image/png": "[encoded data removed]",
            "text/plain": [
              "<Figure size 432x288 with 1 Axes>"
            ]
          },
          "metadata": {}
        }
      ]
    },
    {
      "cell_type": "markdown",
      "source": [
        "The data is slightly imbalance with Positive texts being the highest and Negative being the lowest"
      ],
      "metadata": {
        "id": "_5nsmo8brIgo"
      }
    },
    {
      "cell_type": "code",
      "source": [
        "final_train.Sentiment.value_counts()"
      ],
      "metadata": {
        "colab": {
          "base_uri": "https://localhost:8080/"
        },
        "id": "qdOnjREEp_-R",
        "outputId": "185831b4-824f-4106-ef66-9282448d8a23"
      },
      "execution_count": 20,
      "outputs": [
        {
          "output_type": "execute_result",
          "data": {
            "text/plain": [
              "Positive    8059\n",
              "Neutral     5919\n",
              "Negative    3014\n",
              "Name: Sentiment, dtype: int64"
            ]
          },
          "metadata": {},
          "execution_count": 20
        }
      ]
    },
    {
      "cell_type": "code",
      "source": [
        "Neu = round(final_train[\"Sentiment\"].value_counts()[\"Neutral\"]/len(final_train)*100,2)\n",
        "Neg = round(final_train[\"Sentiment\"].value_counts()[\"Negative\"]/len(final_train)*100,2)\n",
        "Pos = round(final_train[\"Sentiment\"].value_counts()[\"Positive\"]/len(final_train)*100,2)\n",
        "\n",
        "print('This train_dataset contain {}% Neutral Sentiment tweet'.format(Neu))\n",
        "print('This train_dataset contain {}% Negative Sentiment tweet'.format(Neg))\n",
        "print('This train_dataset contain {}% Positive Sentiment tweet'.format(Pos))"
      ],
      "metadata": {
        "colab": {
          "base_uri": "https://localhost:8080/"
        },
        "id": "UiLq4C5Aqb4J",
        "outputId": "ec2361d0-5cce-426d-ff7d-53b6605c8281"
      },
      "execution_count": 21,
      "outputs": [
        {
          "output_type": "stream",
          "name": "stdout",
          "text": [
            "This train_dataset contain 34.83% Neutral Sentiment tweet\n",
            "This train_dataset contain 17.74% Negative Sentiment tweet\n",
            "This train_dataset contain 47.43% Positive Sentiment tweet\n"
          ]
        }
      ]
    },
    {
      "cell_type": "markdown",
      "source": [
        "### Label Encoding the labels and creating a dictionary of the mapping"
      ],
      "metadata": {
        "id": "DCPZyvXmsBCI"
      }
    },
    {
      "cell_type": "code",
      "source": [
        "le = LabelEncoder()\n",
        "le.fit(final_train[\"Sentiment\"])\n",
        "label_mapping = dict(zip(le.transform(le.classes_), le.classes_))\n",
        "label_mapping"
      ],
      "metadata": {
        "colab": {
          "base_uri": "https://localhost:8080/"
        },
        "id": "VHW3tuVerfRS",
        "outputId": "9c15f09e-b66b-425b-f711-4401befefe01"
      },
      "execution_count": 22,
      "outputs": [
        {
          "output_type": "execute_result",
          "data": {
            "text/plain": [
              "{0: 'Negative', 1: 'Neutral', 2: 'Positive'}"
            ]
          },
          "metadata": {},
          "execution_count": 22
        }
      ]
    },
    {
      "cell_type": "code",
      "source": [
        "final_train[\"Label\"] = le.transform(final_train[\"Sentiment\"])\n",
        "final_train"
      ],
      "metadata": {
        "colab": {
          "base_uri": "https://localhost:8080/",
          "height": 424
        },
        "id": "Uzcb2kMvtVlQ",
        "outputId": "ac249976-8559-4678-c044-d67f5ca9f817"
      },
      "execution_count": 23,
      "outputs": [
        {
          "output_type": "execute_result",
          "data": {
            "text/html": [
              "\n",
              "  <div id=\"df-db2f5bdd-5318-4237-a0d1-de5b65b16468\">\n",
              "    <div class=\"colab-df-container\">\n",
              "      <div>\n",
              "<style scoped>\n",
              "    .dataframe tbody tr th:only-of-type {\n",
              "        vertical-align: middle;\n",
              "    }\n",
              "\n",
              "    .dataframe tbody tr th {\n",
              "        vertical-align: top;\n",
              "    }\n",
              "\n",
              "    .dataframe thead th {\n",
              "        text-align: right;\n",
              "    }\n",
              "</style>\n",
              "<table border=\"1\" class=\"dataframe\">\n",
              "  <thead>\n",
              "    <tr style=\"text-align: right;\">\n",
              "      <th></th>\n",
              "      <th>clean_text</th>\n",
              "      <th>Sentiment</th>\n",
              "      <th>Label</th>\n",
              "    </tr>\n",
              "  </thead>\n",
              "  <tbody>\n",
              "    <tr>\n",
              "      <th>0</th>\n",
              "      <td>TheSocialDilemma is an eye opener isn t it ple...</td>\n",
              "      <td>Neutral</td>\n",
              "      <td>1</td>\n",
              "    </tr>\n",
              "    <tr>\n",
              "      <th>1</th>\n",
              "      <td>TheSocialDilemma If we don t agree on what is ...</td>\n",
              "      <td>Positive</td>\n",
              "      <td>2</td>\n",
              "    </tr>\n",
              "    <tr>\n",
              "      <th>2</th>\n",
              "      <td>Watching TheSocialDilemma scary to see social ...</td>\n",
              "      <td>Negative</td>\n",
              "      <td>0</td>\n",
              "    </tr>\n",
              "    <tr>\n",
              "      <th>3</th>\n",
              "      <td>You check your social media before you pee in ...</td>\n",
              "      <td>Positive</td>\n",
              "      <td>2</td>\n",
              "    </tr>\n",
              "    <tr>\n",
              "      <th>4</th>\n",
              "      <td>watch thesocialdilemma and see what s actually...</td>\n",
              "      <td>Negative</td>\n",
              "      <td>0</td>\n",
              "    </tr>\n",
              "    <tr>\n",
              "      <th>...</th>\n",
              "      <td>...</td>\n",
              "      <td>...</td>\n",
              "      <td>...</td>\n",
              "    </tr>\n",
              "    <tr>\n",
              "      <th>16995</th>\n",
              "      <td>Watching TheSocialDilemma</td>\n",
              "      <td>Neutral</td>\n",
              "      <td>1</td>\n",
              "    </tr>\n",
              "    <tr>\n",
              "      <th>16996</th>\n",
              "      <td>If you re not paying for the product you are t...</td>\n",
              "      <td>Neutral</td>\n",
              "      <td>1</td>\n",
              "    </tr>\n",
              "    <tr>\n",
              "      <th>16997</th>\n",
              "      <td>Watching TheSocialDilemma Let s see</td>\n",
              "      <td>Neutral</td>\n",
              "      <td>1</td>\n",
              "    </tr>\n",
              "    <tr>\n",
              "      <th>16998</th>\n",
              "      <td>Yes TheSocialDilemma what a perfect time to be...</td>\n",
              "      <td>Positive</td>\n",
              "      <td>2</td>\n",
              "    </tr>\n",
              "    <tr>\n",
              "      <th>16999</th>\n",
              "      <td>had the impression that is actually sitting in...</td>\n",
              "      <td>Negative</td>\n",
              "      <td>0</td>\n",
              "    </tr>\n",
              "  </tbody>\n",
              "</table>\n",
              "<p>16992 rows × 3 columns</p>\n",
              "</div>\n",
              "      <button class=\"colab-df-convert\" onclick=\"convertToInteractive('df-db2f5bdd-5318-4237-a0d1-de5b65b16468')\"\n",
              "              title=\"Convert this dataframe to an interactive table.\"\n",
              "              style=\"display:none;\">\n",
              "        \n",
              "  <svg xmlns=\"http://www.w3.org/2000/svg\" height=\"24px\"viewBox=\"0 0 24 24\"\n",
              "       width=\"24px\">\n",
              "    <path d=\"M0 0h24v24H0V0z\" fill=\"none\"/>\n",
              "    <path d=\"M18.56 5.44l.94 2.06.94-2.06 2.06-.94-2.06-.94-.94-2.06-.94 2.06-2.06.94zm-11 1L8.5 8.5l.94-2.06 2.06-.94-2.06-.94L8.5 2.5l-.94 2.06-2.06.94zm10 10l.94 2.06.94-2.06 2.06-.94-2.06-.94-.94-2.06-.94 2.06-2.06.94z\"/><path d=\"M17.41 7.96l-1.37-1.37c-.4-.4-.92-.59-1.43-.59-.52 0-1.04.2-1.43.59L10.3 9.45l-7.72 7.72c-.78.78-.78 2.05 0 2.83L4 21.41c.39.39.9.59 1.41.59.51 0 1.02-.2 1.41-.59l7.78-7.78 2.81-2.81c.8-.78.8-2.07 0-2.86zM5.41 20L4 18.59l7.72-7.72 1.47 1.35L5.41 20z\"/>\n",
              "  </svg>\n",
              "      </button>\n",
              "      \n",
              "  <style>\n",
              "    .colab-df-container {\n",
              "      display:flex;\n",
              "      flex-wrap:wrap;\n",
              "      gap: 12px;\n",
              "    }\n",
              "\n",
              "    .colab-df-convert {\n",
              "      background-color: #E8F0FE;\n",
              "      border: none;\n",
              "      border-radius: 50%;\n",
              "      cursor: pointer;\n",
              "      display: none;\n",
              "      fill: #1967D2;\n",
              "      height: 32px;\n",
              "      padding: 0 0 0 0;\n",
              "      width: 32px;\n",
              "    }\n",
              "\n",
              "    .colab-df-convert:hover {\n",
              "      background-color: #E2EBFA;\n",
              "      box-shadow: 0px 1px 2px rgba(60, 64, 67, 0.3), 0px 1px 3px 1px rgba(60, 64, 67, 0.15);\n",
              "      fill: #174EA6;\n",
              "    }\n",
              "\n",
              "    [theme=dark] .colab-df-convert {\n",
              "      background-color: #3B4455;\n",
              "      fill: #D2E3FC;\n",
              "    }\n",
              "\n",
              "    [theme=dark] .colab-df-convert:hover {\n",
              "      background-color: #434B5C;\n",
              "      box-shadow: 0px 1px 3px 1px rgba(0, 0, 0, 0.15);\n",
              "      filter: drop-shadow(0px 1px 2px rgba(0, 0, 0, 0.3));\n",
              "      fill: #FFFFFF;\n",
              "    }\n",
              "  </style>\n",
              "\n",
              "      <script>\n",
              "        const buttonEl =\n",
              "          document.querySelector('#df-db2f5bdd-5318-4237-a0d1-de5b65b16468 button.colab-df-convert');\n",
              "        buttonEl.style.display =\n",
              "          google.colab.kernel.accessAllowed ? 'block' : 'none';\n",
              "\n",
              "        async function convertToInteractive(key) {\n",
              "          const element = document.querySelector('#df-db2f5bdd-5318-4237-a0d1-de5b65b16468');\n",
              "          const dataTable =\n",
              "            await google.colab.kernel.invokeFunction('convertToInteractive',\n",
              "                                                     [key], {});\n",
              "          if (!dataTable) return;\n",
              "\n",
              "          const docLinkHtml = 'Like what you see? Visit the ' +\n",
              "            '<a target=\"_blank\" href=https://colab.research.google.com/notebooks/data_table.ipynb>data table notebook</a>'\n",
              "            + ' to learn more about interactive tables.';\n",
              "          element.innerHTML = '';\n",
              "          dataTable['output_type'] = 'display_data';\n",
              "          await google.colab.output.renderOutput(dataTable, element);\n",
              "          const docLink = document.createElement('div');\n",
              "          docLink.innerHTML = docLinkHtml;\n",
              "          element.appendChild(docLink);\n",
              "        }\n",
              "      </script>\n",
              "    </div>\n",
              "  </div>\n",
              "  "
            ],
            "text/plain": [
              "                                              clean_text Sentiment  Label\n",
              "0      TheSocialDilemma is an eye opener isn t it ple...   Neutral      1\n",
              "1      TheSocialDilemma If we don t agree on what is ...  Positive      2\n",
              "2      Watching TheSocialDilemma scary to see social ...  Negative      0\n",
              "3      You check your social media before you pee in ...  Positive      2\n",
              "4      watch thesocialdilemma and see what s actually...  Negative      0\n",
              "...                                                  ...       ...    ...\n",
              "16995                          Watching TheSocialDilemma   Neutral      1\n",
              "16996  If you re not paying for the product you are t...   Neutral      1\n",
              "16997                Watching TheSocialDilemma Let s see   Neutral      1\n",
              "16998  Yes TheSocialDilemma what a perfect time to be...  Positive      2\n",
              "16999  had the impression that is actually sitting in...  Negative      0\n",
              "\n",
              "[16992 rows x 3 columns]"
            ]
          },
          "metadata": {},
          "execution_count": 23
        }
      ]
    },
    {
      "cell_type": "code",
      "source": [
        "final_train = final_train[[\"clean_text\", \"Label\"]]\n",
        "final_train"
      ],
      "metadata": {
        "colab": {
          "base_uri": "https://localhost:8080/",
          "height": 424
        },
        "id": "hUtv9yJ374Vb",
        "outputId": "5072ae8e-a373-42cd-878a-7a79f9aeb0a2"
      },
      "execution_count": 24,
      "outputs": [
        {
          "output_type": "execute_result",
          "data": {
            "text/html": [
              "\n",
              "  <div id=\"df-6501edbe-f7a9-4f8b-915c-cbde5f70b08b\">\n",
              "    <div class=\"colab-df-container\">\n",
              "      <div>\n",
              "<style scoped>\n",
              "    .dataframe tbody tr th:only-of-type {\n",
              "        vertical-align: middle;\n",
              "    }\n",
              "\n",
              "    .dataframe tbody tr th {\n",
              "        vertical-align: top;\n",
              "    }\n",
              "\n",
              "    .dataframe thead th {\n",
              "        text-align: right;\n",
              "    }\n",
              "</style>\n",
              "<table border=\"1\" class=\"dataframe\">\n",
              "  <thead>\n",
              "    <tr style=\"text-align: right;\">\n",
              "      <th></th>\n",
              "      <th>clean_text</th>\n",
              "      <th>Label</th>\n",
              "    </tr>\n",
              "  </thead>\n",
              "  <tbody>\n",
              "    <tr>\n",
              "      <th>0</th>\n",
              "      <td>TheSocialDilemma is an eye opener isn t it ple...</td>\n",
              "      <td>1</td>\n",
              "    </tr>\n",
              "    <tr>\n",
              "      <th>1</th>\n",
              "      <td>TheSocialDilemma If we don t agree on what is ...</td>\n",
              "      <td>2</td>\n",
              "    </tr>\n",
              "    <tr>\n",
              "      <th>2</th>\n",
              "      <td>Watching TheSocialDilemma scary to see social ...</td>\n",
              "      <td>0</td>\n",
              "    </tr>\n",
              "    <tr>\n",
              "      <th>3</th>\n",
              "      <td>You check your social media before you pee in ...</td>\n",
              "      <td>2</td>\n",
              "    </tr>\n",
              "    <tr>\n",
              "      <th>4</th>\n",
              "      <td>watch thesocialdilemma and see what s actually...</td>\n",
              "      <td>0</td>\n",
              "    </tr>\n",
              "    <tr>\n",
              "      <th>...</th>\n",
              "      <td>...</td>\n",
              "      <td>...</td>\n",
              "    </tr>\n",
              "    <tr>\n",
              "      <th>16995</th>\n",
              "      <td>Watching TheSocialDilemma</td>\n",
              "      <td>1</td>\n",
              "    </tr>\n",
              "    <tr>\n",
              "      <th>16996</th>\n",
              "      <td>If you re not paying for the product you are t...</td>\n",
              "      <td>1</td>\n",
              "    </tr>\n",
              "    <tr>\n",
              "      <th>16997</th>\n",
              "      <td>Watching TheSocialDilemma Let s see</td>\n",
              "      <td>1</td>\n",
              "    </tr>\n",
              "    <tr>\n",
              "      <th>16998</th>\n",
              "      <td>Yes TheSocialDilemma what a perfect time to be...</td>\n",
              "      <td>2</td>\n",
              "    </tr>\n",
              "    <tr>\n",
              "      <th>16999</th>\n",
              "      <td>had the impression that is actually sitting in...</td>\n",
              "      <td>0</td>\n",
              "    </tr>\n",
              "  </tbody>\n",
              "</table>\n",
              "<p>16992 rows × 2 columns</p>\n",
              "</div>\n",
              "      <button class=\"colab-df-convert\" onclick=\"convertToInteractive('df-6501edbe-f7a9-4f8b-915c-cbde5f70b08b')\"\n",
              "              title=\"Convert this dataframe to an interactive table.\"\n",
              "              style=\"display:none;\">\n",
              "        \n",
              "  <svg xmlns=\"http://www.w3.org/2000/svg\" height=\"24px\"viewBox=\"0 0 24 24\"\n",
              "       width=\"24px\">\n",
              "    <path d=\"M0 0h24v24H0V0z\" fill=\"none\"/>\n",
              "    <path d=\"M18.56 5.44l.94 2.06.94-2.06 2.06-.94-2.06-.94-.94-2.06-.94 2.06-2.06.94zm-11 1L8.5 8.5l.94-2.06 2.06-.94-2.06-.94L8.5 2.5l-.94 2.06-2.06.94zm10 10l.94 2.06.94-2.06 2.06-.94-2.06-.94-.94-2.06-.94 2.06-2.06.94z\"/><path d=\"M17.41 7.96l-1.37-1.37c-.4-.4-.92-.59-1.43-.59-.52 0-1.04.2-1.43.59L10.3 9.45l-7.72 7.72c-.78.78-.78 2.05 0 2.83L4 21.41c.39.39.9.59 1.41.59.51 0 1.02-.2 1.41-.59l7.78-7.78 2.81-2.81c.8-.78.8-2.07 0-2.86zM5.41 20L4 18.59l7.72-7.72 1.47 1.35L5.41 20z\"/>\n",
              "  </svg>\n",
              "      </button>\n",
              "      \n",
              "  <style>\n",
              "    .colab-df-container {\n",
              "      display:flex;\n",
              "      flex-wrap:wrap;\n",
              "      gap: 12px;\n",
              "    }\n",
              "\n",
              "    .colab-df-convert {\n",
              "      background-color: #E8F0FE;\n",
              "      border: none;\n",
              "      border-radius: 50%;\n",
              "      cursor: pointer;\n",
              "      display: none;\n",
              "      fill: #1967D2;\n",
              "      height: 32px;\n",
              "      padding: 0 0 0 0;\n",
              "      width: 32px;\n",
              "    }\n",
              "\n",
              "    .colab-df-convert:hover {\n",
              "      background-color: #E2EBFA;\n",
              "      box-shadow: 0px 1px 2px rgba(60, 64, 67, 0.3), 0px 1px 3px 1px rgba(60, 64, 67, 0.15);\n",
              "      fill: #174EA6;\n",
              "    }\n",
              "\n",
              "    [theme=dark] .colab-df-convert {\n",
              "      background-color: #3B4455;\n",
              "      fill: #D2E3FC;\n",
              "    }\n",
              "\n",
              "    [theme=dark] .colab-df-convert:hover {\n",
              "      background-color: #434B5C;\n",
              "      box-shadow: 0px 1px 3px 1px rgba(0, 0, 0, 0.15);\n",
              "      filter: drop-shadow(0px 1px 2px rgba(0, 0, 0, 0.3));\n",
              "      fill: #FFFFFF;\n",
              "    }\n",
              "  </style>\n",
              "\n",
              "      <script>\n",
              "        const buttonEl =\n",
              "          document.querySelector('#df-6501edbe-f7a9-4f8b-915c-cbde5f70b08b button.colab-df-convert');\n",
              "        buttonEl.style.display =\n",
              "          google.colab.kernel.accessAllowed ? 'block' : 'none';\n",
              "\n",
              "        async function convertToInteractive(key) {\n",
              "          const element = document.querySelector('#df-6501edbe-f7a9-4f8b-915c-cbde5f70b08b');\n",
              "          const dataTable =\n",
              "            await google.colab.kernel.invokeFunction('convertToInteractive',\n",
              "                                                     [key], {});\n",
              "          if (!dataTable) return;\n",
              "\n",
              "          const docLinkHtml = 'Like what you see? Visit the ' +\n",
              "            '<a target=\"_blank\" href=https://colab.research.google.com/notebooks/data_table.ipynb>data table notebook</a>'\n",
              "            + ' to learn more about interactive tables.';\n",
              "          element.innerHTML = '';\n",
              "          dataTable['output_type'] = 'display_data';\n",
              "          await google.colab.output.renderOutput(dataTable, element);\n",
              "          const docLink = document.createElement('div');\n",
              "          docLink.innerHTML = docLinkHtml;\n",
              "          element.appendChild(docLink);\n",
              "        }\n",
              "      </script>\n",
              "    </div>\n",
              "  </div>\n",
              "  "
            ],
            "text/plain": [
              "                                              clean_text  Label\n",
              "0      TheSocialDilemma is an eye opener isn t it ple...      1\n",
              "1      TheSocialDilemma If we don t agree on what is ...      2\n",
              "2      Watching TheSocialDilemma scary to see social ...      0\n",
              "3      You check your social media before you pee in ...      2\n",
              "4      watch thesocialdilemma and see what s actually...      0\n",
              "...                                                  ...    ...\n",
              "16995                          Watching TheSocialDilemma      1\n",
              "16996  If you re not paying for the product you are t...      1\n",
              "16997                Watching TheSocialDilemma Let s see      1\n",
              "16998  Yes TheSocialDilemma what a perfect time to be...      2\n",
              "16999  had the impression that is actually sitting in...      0\n",
              "\n",
              "[16992 rows x 2 columns]"
            ]
          },
          "metadata": {},
          "execution_count": 24
        }
      ]
    },
    {
      "cell_type": "markdown",
      "source": [
        "## Data Encoding"
      ],
      "metadata": {
        "id": "8M6RPau3sN-o"
      }
    },
    {
      "cell_type": "code",
      "source": [
        "train_dataset = (\n",
        "    tf.data.Dataset.from_tensor_slices(\n",
        "        (\n",
        "            tf.cast(final_train[\"clean_text\"].values, tf.string),\n",
        "            tf.cast(final_train['Label'].values, tf.int32)\n",
        "        )\n",
        "    )\n",
        ")"
      ],
      "metadata": {
        "id": "MFCTZMPzTiUt"
      },
      "execution_count": 25,
      "outputs": []
    },
    {
      "cell_type": "code",
      "source": [
        "vocab = 1000\n",
        "encoder = tf.keras.layers.experimental.preprocessing.TextVectorization(max_tokens=vocab)\n",
        "encoder.adapt(train_dataset.map(lambda text, label: text))"
      ],
      "metadata": {
        "id": "Tial2wVe_FCz"
      },
      "execution_count": 26,
      "outputs": []
    },
    {
      "cell_type": "code",
      "source": [
        "voc = np.array(encoder.get_vocabulary())\n",
        "voc[0:20]"
      ],
      "metadata": {
        "colab": {
          "base_uri": "https://localhost:8080/"
        },
        "id": "ESmZ5zKk_30S",
        "outputId": "ef7771da-278e-4050-d897-8235f36553d7"
      },
      "execution_count": 27,
      "outputs": [
        {
          "output_type": "execute_result",
          "data": {
            "text/plain": [
              "array(['', '[UNK]', 'thesocialdilemma', 'the', 'i', 'to', 'on', 'and',\n",
              "       'you', 'a', 'is', 'it', 'social', 'watch', 'of', 'netflix', 's',\n",
              "       'this', 'media', 'that'], dtype='<U16')"
            ]
          },
          "metadata": {},
          "execution_count": 27
        }
      ]
    },
    {
      "cell_type": "code",
      "source": [
        "encoder(\"Social Dilemma is a myth\").numpy()"
      ],
      "metadata": {
        "colab": {
          "base_uri": "https://localhost:8080/"
        },
        "id": "q5YcOqhpD-MK",
        "outputId": "4c6944df-6f6a-4a2b-b30f-83cf2142e1c0"
      },
      "execution_count": 28,
      "outputs": [
        {
          "output_type": "execute_result",
          "data": {
            "text/plain": [
              "array([12, 34, 10,  9,  1])"
            ]
          },
          "metadata": {},
          "execution_count": 28
        }
      ]
    },
    {
      "cell_type": "markdown",
      "source": [
        "## Building the model"
      ],
      "metadata": {
        "id": "-2mmgOBosWLA"
      }
    },
    {
      "cell_type": "code",
      "source": [
        "def build_model(hp):\n",
        "    model = Sequential()\n",
        "    model.add(encoder)\n",
        "    model.add(Embedding(input_dim = len(voc), output_dim = 64, mask_zero= True))\n",
        "    model.add(SimpleRNN(units = 64))\n",
        "    model.add(Dense(units=hp.Int('dense_1_units', min_value=32, max_value=128, step=16),activation='relu'))\n",
        "    model.add(Dense(units=hp.Int('dense_2_units', min_value=32, max_value=128, step=16),activation='relu'))\n",
        "    model.add(Dense(units=3, activation = \"softmax\"))\n",
        "    model.compile(optimizer=Adam(hp.Choice('learning_rate', values=[1e-2, 1e-3])), loss='sparse_categorical_crossentropy', metrics=['accuracy'])\n",
        "    return model"
      ],
      "metadata": {
        "id": "ZmviIWOKEf4y"
      },
      "execution_count": 29,
      "outputs": []
    },
    {
      "cell_type": "markdown",
      "source": [
        "##Hyperparameter Tuning"
      ],
      "metadata": {
        "id": "4Pn71yU3say6"
      }
    },
    {
      "cell_type": "code",
      "source": [
        "tuner_search=RandomSearch(build_model,\n",
        "                          objective='accuracy', max_trials= 10, directory='output',\n",
        "                          project_name=\"Sentiment_Analysis\")"
      ],
      "metadata": {
        "id": "J0GKrMbJKSOZ",
        "colab": {
          "base_uri": "https://localhost:8080/"
        },
        "outputId": "393384d2-fe5c-4b9f-dac8-ece95fa5290e"
      },
      "execution_count": 30,
      "outputs": [
        {
          "output_type": "stream",
          "name": "stdout",
          "text": [
            "INFO:tensorflow:Reloading Oracle from existing project output/Sentiment_Analysis/oracle.json\n"
          ]
        }
      ]
    },
    {
      "cell_type": "code",
      "source": [
        "tuner_search.search(final_train[\"clean_text\"], final_train[\"Label\"] ,epochs=15,validation_split=0.2)"
      ],
      "metadata": {
        "colab": {
          "base_uri": "https://localhost:8080/"
        },
        "id": "Co1gKtgWL67Y",
        "outputId": "4c577379-f568-422a-d834-b1e4c30caa1c"
      },
      "execution_count": 32,
      "outputs": [
        {
          "output_type": "stream",
          "name": "stdout",
          "text": [
            "Trial 11 Complete [00h 05m 07s]\n",
            "accuracy: 0.7277275323867798\n",
            "\n",
            "Best accuracy So Far: 0.9873464107513428\n",
            "Total elapsed time: 00h 51m 31s\n",
            "INFO:tensorflow:Oracle triggered exit\n"
          ]
        }
      ]
    },
    {
      "cell_type": "markdown",
      "source": [
        "##Splitting the data"
      ],
      "metadata": {
        "id": "tqEFqi3rsg0g"
      }
    },
    {
      "cell_type": "code",
      "source": [
        "x_train, x_val, y_train, y_val = train_test_split(final_train[\"clean_text\"], final_train[\"Label\"], random_state = 10, test_size = 0.1)"
      ],
      "metadata": {
        "id": "wSc-BV5JMSQw"
      },
      "execution_count": 33,
      "outputs": []
    },
    {
      "cell_type": "code",
      "source": [
        "x_train.shape"
      ],
      "metadata": {
        "colab": {
          "base_uri": "https://localhost:8080/"
        },
        "id": "VloviW1FcSrA",
        "outputId": "6ea88bf4-5899-45c9-e6b5-a4108b6d8dc5"
      },
      "execution_count": 34,
      "outputs": [
        {
          "output_type": "execute_result",
          "data": {
            "text/plain": [
              "(15292,)"
            ]
          },
          "metadata": {},
          "execution_count": 34
        }
      ]
    },
    {
      "cell_type": "code",
      "source": [
        "x_val.shape"
      ],
      "metadata": {
        "colab": {
          "base_uri": "https://localhost:8080/"
        },
        "id": "TIKMW9rrcSoY",
        "outputId": "9eb7d8ed-141e-431b-ec3e-ad4f6ec575d1"
      },
      "execution_count": 35,
      "outputs": [
        {
          "output_type": "execute_result",
          "data": {
            "text/plain": [
              "(1700,)"
            ]
          },
          "metadata": {},
          "execution_count": 35
        }
      ]
    },
    {
      "cell_type": "code",
      "source": [
        "y_train.shape"
      ],
      "metadata": {
        "colab": {
          "base_uri": "https://localhost:8080/"
        },
        "id": "Iosnl63qcSl3",
        "outputId": "9e6312fd-5991-4d15-8530-7fe6b46bcd26"
      },
      "execution_count": 36,
      "outputs": [
        {
          "output_type": "execute_result",
          "data": {
            "text/plain": [
              "(15292,)"
            ]
          },
          "metadata": {},
          "execution_count": 36
        }
      ]
    },
    {
      "cell_type": "code",
      "source": [
        "y_val.shape"
      ],
      "metadata": {
        "colab": {
          "base_uri": "https://localhost:8080/"
        },
        "id": "EkzGBZ-4cSZw",
        "outputId": "174b6210-45a6-4158-cc2b-8867917bad8e"
      },
      "execution_count": 37,
      "outputs": [
        {
          "output_type": "execute_result",
          "data": {
            "text/plain": [
              "(1700,)"
            ]
          },
          "metadata": {},
          "execution_count": 37
        }
      ]
    },
    {
      "cell_type": "markdown",
      "source": [
        "##Building the model based on the best value from hyperparameter tuning"
      ],
      "metadata": {
        "id": "onnsV43nsj-Q"
      }
    },
    {
      "cell_type": "code",
      "source": [
        "model = Sequential()\n",
        "model.add(encoder)\n",
        "model.add(Embedding(input_dim = len(voc), output_dim = 64, mask_zero= True))\n",
        "model.add(SimpleRNN(units = 64))\n",
        "model.add(Dense(units=64,activation='relu'))\n",
        "model.add(Dense(units=112,activation='relu'))\n",
        "model.add(Dense(units=3, activation = \"softmax\"))\n",
        "model.compile(optimizer=Adam(learning_rate=0.001), loss='sparse_categorical_crossentropy', metrics=['accuracy'])"
      ],
      "metadata": {
        "id": "HMiajdynewPa"
      },
      "execution_count": 38,
      "outputs": []
    },
    {
      "cell_type": "code",
      "source": [
        "Epochs = 50\n",
        "M1 = model.fit(x = x_train, y = y_train, validation_data = (x_val, y_val), epochs= Epochs)"
      ],
      "metadata": {
        "colab": {
          "base_uri": "https://localhost:8080/"
        },
        "id": "ACSM2N9rcSWb",
        "outputId": "e4231b80-1bc2-43b7-9264-cb17e235b745"
      },
      "execution_count": 39,
      "outputs": [
        {
          "output_type": "stream",
          "name": "stdout",
          "text": [
            "Epoch 1/50\n",
            "478/478 [==============================] - 49s 96ms/step - loss: 0.8101 - accuracy: 0.6474 - val_loss: 0.4683 - val_accuracy: 0.8282\n",
            "Epoch 2/50\n",
            "478/478 [==============================] - 21s 44ms/step - loss: 0.4045 - accuracy: 0.8577 - val_loss: 0.4062 - val_accuracy: 0.8688\n",
            "Epoch 3/50\n",
            "478/478 [==============================] - 21s 45ms/step - loss: 0.3157 - accuracy: 0.8915 - val_loss: 0.3997 - val_accuracy: 0.8629\n",
            "Epoch 4/50\n",
            "478/478 [==============================] - 22s 45ms/step - loss: 0.2410 - accuracy: 0.9167 - val_loss: 0.4616 - val_accuracy: 0.8647\n",
            "Epoch 5/50\n",
            "478/478 [==============================] - 22s 46ms/step - loss: 0.1904 - accuracy: 0.9312 - val_loss: 0.4614 - val_accuracy: 0.8571\n",
            "Epoch 6/50\n",
            "478/478 [==============================] - 22s 47ms/step - loss: 0.1376 - accuracy: 0.9535 - val_loss: 0.5264 - val_accuracy: 0.8576\n",
            "Epoch 7/50\n",
            "478/478 [==============================] - 21s 45ms/step - loss: 0.1234 - accuracy: 0.9576 - val_loss: 0.5679 - val_accuracy: 0.8465\n",
            "Epoch 8/50\n",
            "478/478 [==============================] - 21s 45ms/step - loss: 0.0949 - accuracy: 0.9663 - val_loss: 0.6431 - val_accuracy: 0.8382\n",
            "Epoch 9/50\n",
            "478/478 [==============================] - 21s 45ms/step - loss: 0.0718 - accuracy: 0.9752 - val_loss: 0.6814 - val_accuracy: 0.8400\n",
            "Epoch 10/50\n",
            "478/478 [==============================] - 21s 45ms/step - loss: 0.0633 - accuracy: 0.9775 - val_loss: 0.7736 - val_accuracy: 0.8212\n",
            "Epoch 11/50\n",
            "478/478 [==============================] - 23s 48ms/step - loss: 0.0719 - accuracy: 0.9754 - val_loss: 0.7949 - val_accuracy: 0.8429\n",
            "Epoch 12/50\n",
            "478/478 [==============================] - 21s 44ms/step - loss: 0.0637 - accuracy: 0.9789 - val_loss: 0.7383 - val_accuracy: 0.8388\n",
            "Epoch 13/50\n",
            "478/478 [==============================] - 21s 44ms/step - loss: 0.0557 - accuracy: 0.9808 - val_loss: 0.8768 - val_accuracy: 0.8253\n",
            "Epoch 14/50\n",
            "478/478 [==============================] - 21s 43ms/step - loss: 0.0464 - accuracy: 0.9837 - val_loss: 0.9274 - val_accuracy: 0.8365\n",
            "Epoch 15/50\n",
            "478/478 [==============================] - 21s 44ms/step - loss: 0.0426 - accuracy: 0.9850 - val_loss: 0.7904 - val_accuracy: 0.8418\n",
            "Epoch 16/50\n",
            "478/478 [==============================] - 21s 45ms/step - loss: 0.0430 - accuracy: 0.9851 - val_loss: 0.8345 - val_accuracy: 0.8382\n",
            "Epoch 17/50\n",
            "478/478 [==============================] - 21s 44ms/step - loss: 0.0521 - accuracy: 0.9819 - val_loss: 0.9042 - val_accuracy: 0.8359\n",
            "Epoch 18/50\n",
            "478/478 [==============================] - 21s 44ms/step - loss: 0.0338 - accuracy: 0.9889 - val_loss: 0.9018 - val_accuracy: 0.8424\n",
            "Epoch 19/50\n",
            "478/478 [==============================] - 22s 45ms/step - loss: 0.0743 - accuracy: 0.9761 - val_loss: 0.9317 - val_accuracy: 0.8388\n",
            "Epoch 20/50\n",
            "478/478 [==============================] - 21s 45ms/step - loss: 0.0351 - accuracy: 0.9879 - val_loss: 0.9247 - val_accuracy: 0.8447\n",
            "Epoch 21/50\n",
            "478/478 [==============================] - 21s 45ms/step - loss: 0.0232 - accuracy: 0.9929 - val_loss: 1.1342 - val_accuracy: 0.8253\n",
            "Epoch 22/50\n",
            "478/478 [==============================] - 21s 45ms/step - loss: 0.0417 - accuracy: 0.9864 - val_loss: 1.0874 - val_accuracy: 0.8347\n",
            "Epoch 23/50\n",
            "478/478 [==============================] - 21s 44ms/step - loss: 0.0581 - accuracy: 0.9805 - val_loss: 0.9409 - val_accuracy: 0.8400\n",
            "Epoch 24/50\n",
            "478/478 [==============================] - 21s 45ms/step - loss: 0.0292 - accuracy: 0.9908 - val_loss: 1.0501 - val_accuracy: 0.8347\n",
            "Epoch 25/50\n",
            "478/478 [==============================] - 21s 44ms/step - loss: 0.0241 - accuracy: 0.9918 - val_loss: 0.9226 - val_accuracy: 0.8218\n",
            "Epoch 26/50\n",
            "478/478 [==============================] - 21s 45ms/step - loss: 0.0385 - accuracy: 0.9861 - val_loss: 0.9626 - val_accuracy: 0.8353\n",
            "Epoch 27/50\n",
            "478/478 [==============================] - 21s 45ms/step - loss: 0.0266 - accuracy: 0.9906 - val_loss: 1.0654 - val_accuracy: 0.8218\n",
            "Epoch 28/50\n",
            "478/478 [==============================] - 21s 44ms/step - loss: 0.0313 - accuracy: 0.9905 - val_loss: 0.9697 - val_accuracy: 0.8076\n",
            "Epoch 29/50\n",
            "478/478 [==============================] - 21s 45ms/step - loss: 0.0454 - accuracy: 0.9864 - val_loss: 1.0647 - val_accuracy: 0.8282\n",
            "Epoch 30/50\n",
            "478/478 [==============================] - 21s 44ms/step - loss: 0.0259 - accuracy: 0.9915 - val_loss: 1.0334 - val_accuracy: 0.8129\n",
            "Epoch 31/50\n",
            "478/478 [==============================] - 21s 44ms/step - loss: 0.0344 - accuracy: 0.9878 - val_loss: 1.0415 - val_accuracy: 0.8435\n",
            "Epoch 32/50\n",
            "478/478 [==============================] - 21s 45ms/step - loss: 0.0198 - accuracy: 0.9938 - val_loss: 1.1123 - val_accuracy: 0.8265\n",
            "Epoch 33/50\n",
            "478/478 [==============================] - 21s 45ms/step - loss: 0.0266 - accuracy: 0.9917 - val_loss: 1.0597 - val_accuracy: 0.8188\n",
            "Epoch 34/50\n",
            "478/478 [==============================] - 21s 45ms/step - loss: 0.0168 - accuracy: 0.9953 - val_loss: 1.2683 - val_accuracy: 0.8194\n",
            "Epoch 35/50\n",
            "478/478 [==============================] - 21s 45ms/step - loss: 0.0328 - accuracy: 0.9897 - val_loss: 1.1501 - val_accuracy: 0.8200\n",
            "Epoch 36/50\n",
            "478/478 [==============================] - 21s 45ms/step - loss: 0.0446 - accuracy: 0.9845 - val_loss: 1.0835 - val_accuracy: 0.8206\n",
            "Epoch 37/50\n",
            "478/478 [==============================] - 21s 44ms/step - loss: 0.0603 - accuracy: 0.9843 - val_loss: 1.0680 - val_accuracy: 0.8106\n",
            "Epoch 38/50\n",
            "478/478 [==============================] - 22s 45ms/step - loss: 0.0276 - accuracy: 0.9917 - val_loss: 1.1529 - val_accuracy: 0.8212\n",
            "Epoch 39/50\n",
            "478/478 [==============================] - 21s 45ms/step - loss: 0.0210 - accuracy: 0.9928 - val_loss: 1.1453 - val_accuracy: 0.8176\n",
            "Epoch 40/50\n",
            "478/478 [==============================] - 21s 45ms/step - loss: 0.0383 - accuracy: 0.9860 - val_loss: 1.2010 - val_accuracy: 0.8259\n",
            "Epoch 41/50\n",
            "478/478 [==============================] - 21s 44ms/step - loss: 0.0141 - accuracy: 0.9954 - val_loss: 1.2545 - val_accuracy: 0.8253\n",
            "Epoch 42/50\n",
            "478/478 [==============================] - 21s 44ms/step - loss: 0.0230 - accuracy: 0.9915 - val_loss: 1.1985 - val_accuracy: 0.8165\n",
            "Epoch 43/50\n",
            "478/478 [==============================] - 21s 44ms/step - loss: 0.0322 - accuracy: 0.9901 - val_loss: 1.0068 - val_accuracy: 0.8247\n",
            "Epoch 44/50\n",
            "478/478 [==============================] - 21s 43ms/step - loss: 0.0391 - accuracy: 0.9875 - val_loss: 1.0079 - val_accuracy: 0.8188\n",
            "Epoch 45/50\n",
            "478/478 [==============================] - 21s 44ms/step - loss: 0.0249 - accuracy: 0.9928 - val_loss: 1.2955 - val_accuracy: 0.8041\n",
            "Epoch 46/50\n",
            "478/478 [==============================] - 21s 45ms/step - loss: 0.0155 - accuracy: 0.9944 - val_loss: 1.2605 - val_accuracy: 0.8100\n",
            "Epoch 47/50\n",
            "478/478 [==============================] - 22s 45ms/step - loss: 0.0255 - accuracy: 0.9917 - val_loss: 1.3247 - val_accuracy: 0.8165\n",
            "Epoch 48/50\n",
            "478/478 [==============================] - 21s 44ms/step - loss: 0.0309 - accuracy: 0.9902 - val_loss: 1.1338 - val_accuracy: 0.8253\n",
            "Epoch 49/50\n",
            "478/478 [==============================] - 21s 45ms/step - loss: 0.0154 - accuracy: 0.9952 - val_loss: 1.3164 - val_accuracy: 0.8318\n",
            "Epoch 50/50\n",
            "478/478 [==============================] - 21s 44ms/step - loss: 0.0181 - accuracy: 0.9945 - val_loss: 1.1069 - val_accuracy: 0.8259\n"
          ]
        }
      ]
    },
    {
      "cell_type": "markdown",
      "source": [
        "##Model Accuracy"
      ],
      "metadata": {
        "id": "BwjWTRz0sxBI"
      }
    },
    {
      "cell_type": "code",
      "source": [
        "plt.figure(figsize = [10,8])\n",
        "plt.plot(np.arange(0, Epochs), M1.history[\"accuracy\"], label=\"train_acc\")\n",
        "plt.plot(np.arange(0, Epochs), M1.history[\"val_accuracy\"], label=\"val_acc\")\n",
        "plt.title(\"Sentiment Analysis: Training and Validation Accuracy\")\n",
        "plt.xlabel(\"Epoch\", weight=\"bold\")\n",
        "plt.ylabel(\"Accuracy\", weight=\"bold\")\n",
        "plt.legend()\n",
        "plt.show()"
      ],
      "metadata": {
        "colab": {
          "base_uri": "https://localhost:8080/",
          "height": 518
        },
        "id": "ZLmUK_fOcSTS",
        "outputId": "6b2d3802-d14c-419a-bbb3-7aa63700308f"
      },
      "execution_count": 40,
      "outputs": [
        {
          "output_type": "display_data",
          "data": {
            "image/png": "[encoded data removed]",
            "text/plain": [
              "<Figure size 720x576 with 1 Axes>"
            ]
          },
          "metadata": {}
        }
      ]
    },
    {
      "cell_type": "markdown",
      "source": [
        " Model Loss"
      ],
      "metadata": {
        "id": "HexqQVNes1bB"
      }
    },
    {
      "cell_type": "code",
      "source": [
        "plt.figure(figsize = [10,8])\n",
        "plt.plot(np.arange(0, Epochs), M1.history[\"loss\"], label=\"train_loss\")\n",
        "plt.plot(np.arange(0, Epochs), M1.history[\"val_loss\"], label=\"val_loss\")\n",
        "plt.title(\"Sentiment Analysis: Training and Validation Loss\")\n",
        "plt.xlabel(\"Epoch\", weight=\"bold\")\n",
        "plt.ylabel(\"Loss\", weight=\"bold\")\n",
        "plt.legend()\n",
        "plt.show()"
      ],
      "metadata": {
        "colab": {
          "base_uri": "https://localhost:8080/",
          "height": 518
        },
        "id": "LHn8bmHbcSQL",
        "outputId": "14f0ce0e-6d7e-4f37-ab4b-95afc219c266"
      },
      "execution_count": 41,
      "outputs": [
        {
          "output_type": "display_data",
          "data": {
            "image/png": "[encoded data removed]",
            "text/plain": [
              "<Figure size 720x576 with 1 Axes>"
            ]
          },
          "metadata": {}
        }
      ]
    },
    {
      "cell_type": "markdown",
      "source": [
        "##Predicting validation dataset for model evaluation"
      ],
      "metadata": {
        "id": "x8roHa8as-T3"
      }
    },
    {
      "cell_type": "code",
      "source": [
        "y_pred_proba = model.predict(x_val)\n",
        "y_pred_proba"
      ],
      "metadata": {
        "colab": {
          "base_uri": "https://localhost:8080/"
        },
        "id": "SUBklJt8cSMz",
        "outputId": "5c81f752-fe6c-4f7b-8ede-41d6f7cd2ae6"
      },
      "execution_count": 42,
      "outputs": [
        {
          "output_type": "execute_result",
          "data": {
            "text/plain": [
              "array([[5.6486964e-01, 6.9938594e-04, 4.3443099e-01],\n",
              "       [4.8020910e-03, 9.9428976e-01, 9.0820325e-04],\n",
              "       [3.5295971e-03, 4.0154122e-05, 9.9643022e-01],\n",
              "       ...,\n",
              "       [2.7748974e-09, 1.2811071e-07, 9.9999988e-01],\n",
              "       [1.1664925e-03, 3.3108348e-03, 9.9552274e-01],\n",
              "       [1.0419876e-02, 4.0085386e-03, 9.8557162e-01]], dtype=float32)"
            ]
          },
          "metadata": {},
          "execution_count": 42
        }
      ]
    },
    {
      "cell_type": "code",
      "source": [
        "y_pred = []\n",
        "for i in y_pred_proba:\n",
        "    y_pred.append(np.argmax(i))"
      ],
      "metadata": {
        "id": "f7A7w_0Sjt_r"
      },
      "execution_count": 43,
      "outputs": []
    },
    {
      "cell_type": "markdown",
      "source": [
        "##Model Evaluation"
      ],
      "metadata": {
        "id": "9zYQv-X6tTBt"
      }
    },
    {
      "cell_type": "code",
      "source": [
        "def model_evaluation(y_test, y_pred):\n",
        "    print(\"Cohen Kappa Score: \", cohen_kappa_score(y_test, y_pred))\n",
        "    print(\"Classification Report--> \\n\", classification_report(y_true= y_test, y_pred= y_pred))\n",
        "    cm =confusion_matrix(y_test, y_pred)\n",
        "    confusion = pd.DataFrame(cm, columns = [\"Negative\", \"Neutral\", \"Positive\"], index = [\"Negative\", \"Neutral\", \"Positive\"])\n",
        "    sns.heatmap(confusion, annot = True, fmt = \"d\")\n",
        "    plt.xlabel(\"Predicted Class\")\n",
        "    plt.ylabel(\"Actual Class\")\n",
        "    plt.tight_layout()\n",
        "    plt.show()"
      ],
      "metadata": {
        "id": "aJvMiB-hkCXi"
      },
      "execution_count": 44,
      "outputs": []
    },
    {
      "cell_type": "code",
      "source": [
        "model_evaluation(y_test = y_val, y_pred = y_pred)"
      ],
      "metadata": {
        "colab": {
          "base_uri": "https://localhost:8080/",
          "height": 501
        },
        "id": "7hiyrYepkYgk",
        "outputId": "af8b93cc-ef31-4689-f89c-16db00f23062"
      },
      "execution_count": 45,
      "outputs": [
        {
          "output_type": "stream",
          "name": "stdout",
          "text": [
            "Cohen Kappa Score:  0.72000002225755\n",
            "Classification Report--> \n",
            "               precision    recall  f1-score   support\n",
            "\n",
            "           0       0.66      0.65      0.65       306\n",
            "           1       0.87      0.87      0.87       585\n",
            "           2       0.86      0.86      0.86       809\n",
            "\n",
            "    accuracy                           0.83      1700\n",
            "   macro avg       0.79      0.79      0.79      1700\n",
            "weighted avg       0.83      0.83      0.83      1700\n",
            "\n"
          ]
        },
        {
          "output_type": "display_data",
          "data": {
            "image/png": "[encoded data removed]",
            "text/plain": [
              "<Figure size 432x288 with 2 Axes>"
            ]
          },
          "metadata": {}
        }
      ]
    },
    {
      "cell_type": "markdown",
      "source": [
        "##Handling null values in the test dataset"
      ],
      "metadata": {
        "id": "0-Zv93W8tXRI"
      }
    },
    {
      "cell_type": "code",
      "source": [
        "final_test.isnull().sum()"
      ],
      "metadata": {
        "colab": {
          "base_uri": "https://localhost:8080/"
        },
        "id": "OVKt0GEGo2Yc",
        "outputId": "6107ddb6-3c20-445e-fde9-b8e629b39692"
      },
      "execution_count": 46,
      "outputs": [
        {
          "output_type": "execute_result",
          "data": {
            "text/plain": [
              "1"
            ]
          },
          "metadata": {},
          "execution_count": 46
        }
      ]
    },
    {
      "cell_type": "code",
      "source": [
        "final_test.dropna(inplace=True)"
      ],
      "metadata": {
        "id": "LX5D7cfTpABb"
      },
      "execution_count": 47,
      "outputs": []
    },
    {
      "cell_type": "markdown",
      "source": [
        "##Making Predictions on test dataset"
      ],
      "metadata": {
        "id": "xkctLdmmtqEB"
      }
    },
    {
      "cell_type": "code",
      "source": [
        "y_pred_test_proba = model.predict(final_test)\n",
        "y_pred_test_proba"
      ],
      "metadata": {
        "colab": {
          "base_uri": "https://localhost:8080/"
        },
        "id": "yavrPQoSkhzK",
        "outputId": "69a8606d-b838-447f-facd-10870705b339"
      },
      "execution_count": 48,
      "outputs": [
        {
          "output_type": "execute_result",
          "data": {
            "text/plain": [
              "array([[3.3412418e-01, 6.6544700e-01, 4.2882550e-04],\n",
              "       [5.3685999e-05, 9.9991322e-01, 3.3088108e-05],\n",
              "       [1.1669664e-07, 7.9608427e-08, 9.9999976e-01],\n",
              "       ...,\n",
              "       [8.8457662e-01, 3.1480815e-02, 8.3942533e-02],\n",
              "       [4.7631404e-01, 2.4776610e-02, 4.9890935e-01],\n",
              "       [6.2776300e-05, 1.6240394e-04, 9.9977487e-01]], dtype=float32)"
            ]
          },
          "metadata": {},
          "execution_count": 48
        }
      ]
    },
    {
      "cell_type": "code",
      "source": [
        "y_pred_test = []\n",
        "for i in y_pred_test_proba:\n",
        "    y_pred_test.append(np.argmax(i))"
      ],
      "metadata": {
        "id": "lJvnbDNHoOcq"
      },
      "execution_count": 49,
      "outputs": []
    },
    {
      "cell_type": "code",
      "source": [
        "for i in range(0,10):\n",
        "    print(\"Statement:-> \\n\", final_test[i])\n",
        "    print(\"Prediction:\", label_mapping[y_pred_test[i]])"
      ],
      "metadata": {
        "colab": {
          "base_uri": "https://localhost:8080/"
        },
        "id": "Ls51DFgboWpx",
        "outputId": "7fd53ea7-23b9-459f-f647-605646a6148a"
      },
      "execution_count": 50,
      "outputs": [
        {
          "output_type": "stream",
          "name": "stdout",
          "text": [
            "Statement:-> \n",
            " Watch theSocialDilemma then joinMastodon\n",
            "Prediction: Neutral\n",
            "Statement:-> \n",
            " With the 2019 2020 NBA season officially over for my beloved well done guys WeTheNorth I m back in\n",
            "Prediction: Neutral\n",
            "Statement:-> \n",
            " if you want to really know about people go talk with him dont judge a person by only looking for in his social media TheSocialDilemma\n",
            "Prediction: Positive\n",
            "Statement:-> \n",
            " Have you watched TheSocialDilemma on Netflix\n",
            "Prediction: Neutral\n",
            "Statement:-> \n",
            " Highly recommend TheSocialDilemma on\n",
            "Prediction: Positive\n",
            "Statement:-> \n",
            " Have you ever notce how much time you waste away scrolling on social media Its addictive and there aregood reasons\n",
            "Prediction: Positive\n",
            "Statement:-> \n",
            " Hey Twitter AIs out there do a healthy thing for us once in a while what about increasing awareness on the dan\n",
            "Prediction: Neutral\n",
            "Statement:-> \n",
            " Just watched TheSocialDilemma appreciate the irony of posting after watching but definitely given me some ideas f\n",
            "Prediction: Neutral\n",
            "Statement:-> \n",
            " Anyone watched TheSocialDilemma on Wild Will make you think twice about picking up your phone\n",
            "Prediction: Positive\n",
            "Statement:-> \n",
            " In case anyone was wondering what the 100bn Moonshot money was really for it s so Tories\n",
            "Prediction: Positive\n"
          ]
        }
      ]
    },
    {
      "cell_type": "code",
      "source": [
        "!pip install gradio"
      ],
      "metadata": {
        "id": "zgeC_-zEuUT4"
      },
      "execution_count": null,
      "outputs": []
    },
    {
      "cell_type": "code",
      "source": [
        "import gradio as gr\n",
        "def predict_text(text):\n",
        "    final= model.predict([text])\n",
        "    final = np.argmax(final)\n",
        "    print(label_mapping[final])\n",
        "    \n",
        "    return label_mapping[final]\n",
        "\n",
        "im = gr.inputs.Textbox(lines=1, placeholder=None, default=\"\", label=None, optional=False)\n",
        "label = gr.outputs.Label()\n",
        "\n",
        "gr.Interface(fn=predict_text, inputs=im, outputs=label, capture_session=True, title=\"Sentiment Analysis\").launch(share=True)"
      ],
      "metadata": {
        "colab": {
          "base_uri": "https://localhost:8080/",
          "height": 663
        },
        "id": "fAFuHPh1u7tq",
        "outputId": "3702a7e8-e8e2-494f-98f3-91a9dc112a82"
      },
      "execution_count": 68,
      "outputs": [
        {
          "output_type": "stream",
          "name": "stdout",
          "text": [
            "Colab notebook detected. To show errors in colab notebook, set `debug=True` in `launch()`\n",
            "Running on public URL: https://29367.gradio.app\n",
            "\n",
            "This share link expires in 72 hours. For free permanent hosting, check out Spaces (https://huggingface.co/spaces)\n"
          ]
        },
        {
          "output_type": "display_data",
          "data": {
            "text/html": [
              "\n",
              "        <iframe\n",
              "            width=\"900\"\n",
              "            height=\"500\"\n",
              "            src=\"https://29367.gradio.app\"\n",
              "            frameborder=\"0\"\n",
              "            allowfullscreen\n",
              "        ></iframe>\n",
              "        "
            ],
            "text/plain": [
              "<IPython.lib.display.IFrame at 0x7f56ae26b390>"
            ]
          },
          "metadata": {}
        },
        {
          "output_type": "execute_result",
          "data": {
            "text/plain": [
              "(<fastapi.applications.FastAPI at 0x7f56c3eb7f10>,\n",
              " 'http://127.0.0.1:7863/',\n",
              " 'https://29367.gradio.app')"
            ]
          },
          "metadata": {},
          "execution_count": 68
        }
      ]
    },
    {
      "cell_type": "code",
      "source": [
        ""
      ],
      "metadata": {
        "id": "UZ3QCeQbGwnq"
      },
      "execution_count": null,
      "outputs": []
    }
  ],
  "metadata": {
    "colab": {
      "name": "Sentiment Analysis.ipynb",
      "provenance": [],
      "collapsed_sections": []
    },
    "kernelspec": {
      "display_name": "Python 3",
      "name": "python3"
    },
    "language_info": {
      "name": "python"
    },
    "accelerator": "GPU"
  },
  "nbformat": 4,
  "nbformat_minor": 0
}